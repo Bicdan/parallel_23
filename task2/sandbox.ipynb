{
 "cells": [
  {
   "cell_type": "code",
   "execution_count": 1,
   "metadata": {},
   "outputs": [],
   "source": [
    "import numpy as np"
   ]
  },
  {
   "cell_type": "code",
   "execution_count": 2,
   "metadata": {},
   "outputs": [
    {
     "data": {
      "image/png": "[encoded data removed]",
      "text/plain": [
       "<Figure size 640x480 with 1 Axes>"
      ]
     },
     "metadata": {},
     "output_type": "display_data"
    }
   ],
   "source": [
    "import matplotlib.pyplot as plt\n",
    "import numpy as np\n",
    "\n",
    "def is_inside_area(x, y):\n",
    "    if x > 0 and y > 0 and 3*y + 4*x < 12:\n",
    "        return 1\n",
    "    elif np.isclose(x, 0) and 0 <= y <= 4:\n",
    "        return 0\n",
    "    elif np.isclose(y, 0) and 0 <= x <= 3:\n",
    "        return 0\n",
    "    elif x > 0 and y > 0 and np.isclose(3*y + 4*x, 12):\n",
    "        return 0\n",
    "    return -1\n",
    "\n",
    "# Создаем сетку точек\n",
    "x_values = np.linspace(-1, 5, 400)\n",
    "y_values = np.linspace(-1, 5, 400)\n",
    "\n",
    "# Создаем массив значений функции is_inside_area для каждой точки\n",
    "result_values = np.zeros((len(x_values), len(y_values)))\n",
    "\n",
    "for i, x in enumerate(x_values):\n",
    "    for j, y in enumerate(y_values):\n",
    "        result_values[i, j] = is_inside_area(x, y)\n",
    "\n",
    "# Рисуем график с использованием разных цветов для значений 1, 0 и -1\n",
    "plt.contourf(x_values, y_values, result_values, levels=[-1, 0, 1], colors=['blue', 'white', 'red'], alpha=0.5)\n",
    "\n",
    "# Добавляем подписи\n",
    "plt.title('Region Classification')\n",
    "plt.xlabel('X')\n",
    "plt.ylabel('Y')\n",
    "\n",
    "# Отображаем график\n",
    "plt.show()"
   ]
  },
  {
   "cell_type": "code",
   "execution_count": 3,
   "metadata": {},
   "outputs": [],
   "source": [
    "A1 = 0\n",
    "A2 = 3\n",
    "B1 = 0\n",
    "B2 = 4"
   ]
  },
  {
   "cell_type": "code",
   "execution_count": 16,
   "metadata": {},
   "outputs": [
    {
     "data": {
      "application/vnd.plotly.v1+json": {
       "config": {
        "plotlyServerURL": "https://plot.ly"
       },
       "data": [
        {
         "colorscale": [
          [
           0,
           "#440154"
          ],
          [
           0.1111111111111111,
           "#482878"
          ],
          [
           0.2222222222222222,
           "#3e4989"
          ],
          [
           0.3333333333333333,
           "#31688e"
          ],
          [
           0.4444444444444444,
           "#26828e"
          ],
          [
           0.5555555555555556,
           "#1f9e89"
          ],
          [
           0.6666666666666666,
           "#35b779"
          ],
          [
           0.7777777777777778,
           "#6ece58"
          ],
          [
           0.8888888888888888,
           "#b5de2b"
          ],
          [
           1,
           "#fde725"
          ]
         ],
         "type": "surface",
         "x": [
          0,
          0.075,
          0.15,
          0.22499999999999998,
          0.3,
          0.375,
          0.44999999999999996,
          0.525,
          0.6,
          0.6749999999999999,
          0.75,
          0.825,
          0.8999999999999999,
          0.975,
          1.05,
          1.125,
          1.2,
          1.275,
          1.3499999999999999,
          1.425,
          1.5,
          1.575,
          1.65,
          1.7249999999999999,
          1.7999999999999998,
          1.875,
          1.95,
          2.025,
          2.1,
          2.175,
          2.25,
          2.3249999999999997,
          2.4,
          2.475,
          2.55,
          2.625,
          2.6999999999999997,
          2.775,
          2.85,
          2.925,
          3
         ],
         "y": [
          0,
          0.1,
          0.2,
          0.30000000000000004,
          0.4,
          0.5,
          0.6000000000000001,
          0.7000000000000001,
          0.8,
          0.9,
          1,
          1.1,
          1.2000000000000002,
          1.3,
          1.4000000000000001,
          1.5,
          1.6,
          1.7000000000000002,
          1.8,
          1.9000000000000001,
          2,
          2.1,
          2.2,
          2.3000000000000003,
          2.4000000000000004,
          2.5,
          2.6,
          2.7,
          2.8000000000000003,
          2.9000000000000004,
          3,
          3.1,
          3.2,
          3.3000000000000003,
          3.4000000000000004,
          3.5,
          3.6,
          3.7,
          3.8000000000000003,
          3.9000000000000004,
          4
         ],
         "z": [
          [
           0,
           0,
           0,
           0,
           0,
           0,
           0,
           0,
           0,
           0,
           0,
           0,
           0,
           0,
           0,
           0,
           0,
           0,
           0,
           0,
           0,
           0,
           0,
           0,
           0,
           0,
           0,
           0,
           0,
           0,
           0,
           0,
           0,
           0,
           0,
           0,
           0,
           0,
           0,
           0,
           0
          ],
          [
           0,
           0.0001515,
           0.0001943,
           0.0002204,
           0.0002361,
           0.0002448,
           0.0002487,
           0.0002491,
           0.0002471,
           0.0002432,
           0.000238,
           0.0002319,
           0.000225,
           0.0002176,
           0.0002098,
           0.0002017,
           0.0001935,
           0.0001852,
           0.0001768,
           0.0001683,
           0.0001599,
           0.0001515,
           0.0001431,
           0.0001347,
           0.0001264,
           0.0001182,
           0.00011,
           0.0001019,
           0.0000938,
           0.0000858,
           0.0000778,
           0.0000699,
           0.000062,
           0.0000541,
           0.0000463,
           0.0000386,
           0.0000308,
           0.0000231,
           0.0000154,
           0.0000077,
           0
          ],
          [
           0,
           0.0029849,
           0.0004181,
           0.0004594,
           0.0004846,
           0.0004983,
           0.0005036,
           0.0005028,
           0.0004976,
           0.000489,
           0.000478,
           0.0004652,
           0.0004511,
           0.000436,
           0.0004202,
           0.000404,
           0.0003874,
           0.0003706,
           0.0003537,
           0.0003368,
           0.0003199,
           0.000303,
           0.0002862,
           0.0002695,
           0.0002529,
           0.0002364,
           0.00022,
           0.0002037,
           0.0001875,
           0.0001715,
           0.0001555,
           0.0001397,
           0.0001239,
           0.0001083,
           0.0000927,
           0.0000771,
           0.0000616,
           0.0000462,
           0.0000308,
           0.0000154,
           0
          ],
          [
           0,
           0.0057015,
           0.0059087,
           0.0007273,
           0.0007539,
           0.0007668,
           0.0007696,
           0.0007648,
           0.0007542,
           0.0007394,
           0.0007215,
           0.0007012,
           0.0006792,
           0.0006559,
           0.0006318,
           0.000607,
           0.0005819,
           0.0005565,
           0.000531,
           0.0005055,
           0.00048,
           0.0004546,
           0.0004294,
           0.0004043,
           0.0003793,
           0.0003545,
           0.0003299,
           0.0003055,
           0.0002813,
           0.0002572,
           0.0002333,
           0.0002095,
           0.0001859,
           0.0001624,
           0.000139,
           0.0001157,
           0.0000924,
           0.0000693,
           0.0000461,
           0.0000231,
           0
          ],
          [
           0,
           0.0082285,
           0.0110378,
           0.0086039,
           0.0010477,
           0.0010539,
           0.0010496,
           0.0010373,
           0.0010189,
           0.0009959,
           0.0009696,
           0.0009407,
           0.00091,
           0.0008779,
           0.0008449,
           0.0008113,
           0.0007773,
           0.0007431,
           0.0007088,
           0.0006746,
           0.0006404,
           0.0006065,
           0.0005727,
           0.0005391,
           0.0005058,
           0.0004727,
           0.0004399,
           0.0004073,
           0.000375,
           0.0003429,
           0.000311,
           0.0002793,
           0.0002478,
           0.0002164,
           0.0001852,
           0.0001542,
           0.0001232,
           0.0000923,
           0.0000615,
           0.0000307,
           0
          ],
          [
           0,
           0.0104935,
           0.0156547,
           0.0157403,
           0.0109407,
           0.0013602,
           0.0013444,
           0.0013212,
           0.0012923,
           0.0012592,
           0.0012228,
           0.0011842,
           0.0011438,
           0.0011022,
           0.0010598,
           0.0010169,
           0.0009737,
           0.0009304,
           0.0008872,
           0.000844,
           0.0008011,
           0.0007584,
           0.0007161,
           0.000674,
           0.0006323,
           0.0005909,
           0.0005498,
           0.000509,
           0.0004686,
           0.0004284,
           0.0003886,
           0.000349,
           0.0003096,
           0.0002704,
           0.0002314,
           0.0001926,
           0.0001539,
           0.0001153,
           0.0000768,
           0.0000384,
           0
          ],
          [
           0,
           0.0124449,
           0.0196499,
           0.0219585,
           0.019637,
           0.0128507,
           0.0016531,
           0.0016159,
           0.0015741,
           0.0015289,
           0.0014811,
           0.0014315,
           0.0013806,
           0.0013288,
           0.0012764,
           0.0012238,
           0.0011711,
           0.0011184,
           0.001066,
           0.0010138,
           0.000962,
           0.0009105,
           0.0008595,
           0.0008089,
           0.0007587,
           0.0007089,
           0.0006596,
           0.0006106,
           0.0005621,
           0.0005139,
           0.0004661,
           0.0004185,
           0.0003713,
           0.0003243,
           0.0002775,
           0.000231,
           0.0001846,
           0.0001383,
           0.0000922,
           0.0000461,
           0
          ],
          [
           0,
           0.0140602,
           0.0229731,
           0.02717,
           0.0269958,
           0.0226814,
           0.0143301,
           0.0019197,
           0.001863,
           0.0018042,
           0.0017437,
           0.0016822,
           0.0016199,
           0.0015573,
           0.0014945,
           0.0014317,
           0.0013692,
           0.001307,
           0.0012452,
           0.0011838,
           0.001123,
           0.0010627,
           0.0010029,
           0.0009437,
           0.000885,
           0.0008269,
           0.0007693,
           0.0007121,
           0.0006555,
           0.0005992,
           0.0005434,
           0.000488,
           0.0004329,
           0.0003781,
           0.0003236,
           0.0002693,
           0.0002152,
           0.0001613,
           0.0001074,
           0.0000537,
           0
          ],
          [
           0,
           0.0153466,
           0.0256338,
           0.0313772,
           0.0329996,
           0.0307995,
           0.0249351,
           0.0154243,
           0.0021571,
           0.0020835,
           0.0020095,
           0.0019353,
           0.0018612,
           0.0017872,
           0.0017136,
           0.0016405,
           0.0015679,
           0.0014959,
           0.0014246,
           0.0013539,
           0.001284,
           0.0012148,
           0.0011462,
           0.0010784,
           0.0010112,
           0.0009446,
           0.0008787,
           0.0008134,
           0.0007486,
           0.0006844,
           0.0006206,
           0.0005572,
           0.0004943,
           0.0004317,
           0.0003695,
           0.0003075,
           0.0002457,
           0.0001841,
           0.0001227,
           0.0000613,
           0
          ],
          [
           0,
           0.016334,
           0.0276882,
           0.0346559,
           0.037733,
           0.0372849,
           0.0335278,
           0.0265264,
           0.0162042,
           0.0023652,
           0.0022771,
           0.0021899,
           0.0021035,
           0.002018,
           0.0019333,
           0.0018496,
           0.0017668,
           0.0016849,
           0.001604,
           0.0015239,
           0.0014448,
           0.0013666,
           0.0012893,
           0.0012128,
           0.0011371,
           0.0010621,
           0.0009879,
           0.0009144,
           0.0008415,
           0.0007693,
           0.0006975,
           0.0006263,
           0.0005556,
           0.0004852,
           0.0004152,
           0.0003455,
           0.0002761,
           0.0002069,
           0.0001379,
           0.0000689,
           0
          ],
          [
           0,
           0.0170663,
           0.0292218,
           0.0371281,
           0.0413477,
           0.0423092,
           0.0402874,
           0.0353978,
           0.0276058,
           0.0167453,
           0.002545,
           0.0024446,
           0.0023459,
           0.0022487,
           0.0021529,
           0.0020585,
           0.0019654,
           0.0018736,
           0.001783,
           0.0016936,
           0.0016053,
           0.0015181,
           0.001432,
           0.0013468,
           0.0012626,
           0.0011793,
           0.0010968,
           0.0010151,
           0.0009341,
           0.0008538,
           0.0007742,
           0.0006951,
           0.0006166,
           0.0005385,
           0.0004608,
           0.0003835,
           0.0003064,
           0.0002296,
           0.000153,
           0.0000765,
           0
          ],
          [
           0,
           0.0175921,
           0.0303309,
           0.0389359,
           0.0440277,
           0.0460925,
           0.0454615,
           0.0423031,
           0.0366299,
           0.0283148,
           0.0171149,
           0.0026983,
           0.0025874,
           0.0024786,
           0.0023718,
           0.0022667,
           0.0021634,
           0.0020617,
           0.0019615,
           0.0018627,
           0.0017652,
           0.0016691,
           0.0015741,
           0.0014803,
           0.0013876,
           0.0012959,
           0.0012052,
           0.0011153,
           0.0010263,
           0.0009381,
           0.0008506,
           0.0007637,
           0.0006773,
           0.0005915,
           0.0005062,
           0.0004212,
           0.0003366,
           0.0002522,
           0.000168,
           0.000084,
           0
          ],
          [
           0,
           0.0179585,
           0.0311099,
           0.0402208,
           0.0459607,
           0.0488669,
           0.0493223,
           0.0475478,
           0.0436059,
           0.0374148,
           0.0287696,
           0.017366,
           0.0028272,
           0.002707,
           0.0025893,
           0.0024738,
           0.0023604,
           0.0022488,
           0.0021391,
           0.0020309,
           0.0019244,
           0.0018193,
           0.0017156,
           0.0016132,
           0.0015121,
           0.001412,
           0.0013131,
           0.0012151,
           0.0011181,
           0.0010219,
           0.0009265,
           0.0008318,
           0.0007378,
           0.0006443,
           0.0005514,
           0.0004588,
           0.0003666,
           0.0002747,
           0.000183,
           0.0000915,
           0
          ],
          [
           0,
           0.0182067,
           0.031642,
           0.0411099,
           0.0473195,
           0.0508513,
           0.0521349,
           0.0514401,
           0.0488795,
           0.0444201,
           0.0379014,
           0.0290569,
           0.0175372,
           0.0029334,
           0.0028051,
           0.0026794,
           0.0025559,
           0.0024347,
           0.0023155,
           0.0021982,
           0.0020826,
           0.0019687,
           0.0018563,
           0.0017454,
           0.0016358,
           0.0015275,
           0.0014204,
           0.0013143,
           0.0012093,
           0.0011053,
           0.0010021,
           0.0008996,
           0.0007979,
           0.0006968,
           0.0005963,
           0.0004962,
           0.0003965,
           0.0002971,
           0.0001979,
           0.0000989,
           0
          ],
          [
           0,
           0.0183703,
           0.0319962,
           0.0417096,
           0.0482514,
           0.0522375,
           0.0541373,
           0.0542652,
           0.0527812,
           0.0497016,
           0.0449141,
           0.0381965,
           0.0292371,
           0.0176546,
           0.0030187,
           0.0028829,
           0.0027498,
           0.002619,
           0.0024905,
           0.0023641,
           0.0022396,
           0.002117,
           0.001996,
           0.0018766,
           0.0017587,
           0.0016422,
           0.001527,
           0.0014129,
           0.0013,
           0.0011881,
           0.0010771,
           0.000967,
           0.0008576,
           0.000749,
           0.0006409,
           0.0005333,
           0.0004261,
           0.0003193,
           0.0002127,
           0.0001063,
           0
          ],
          [
           0,
           0.0184756,
           0.032226,
           0.0421045,
           0.0488757,
           0.0531837,
           0.0555315,
           0.0562717,
           0.0556078,
           0.0536029,
           0.0501938,
           0.0452062,
           0.0383728,
           0.0293498,
           0.017735,
           0.0030843,
           0.0029417,
           0.0028016,
           0.002664,
           0.0025287,
           0.0023954,
           0.0022641,
           0.0021346,
           0.0020069,
           0.0018807,
           0.001756,
           0.0016328,
           0.0015108,
           0.00139,
           0.0012703,
           0.0011517,
           0.0010339,
           0.0009169,
           0.0008007,
           0.0006852,
           0.0005701,
           0.0004556,
           0.0003413,
           0.0002274,
           0.0001137,
           0
          ],
          [
           0,
           0.0185416,
           0.0323716,
           0.0423584,
           0.0492843,
           0.0538154,
           0.0564813,
           0.0576667,
           0.0576131,
           0.0564267,
           0.0540908,
           0.0504801,
           0.0453751,
           0.0384766,
           0.02942,
           0.0177891,
           0.0031314,
           0.0029823,
           0.0028358,
           0.0026917,
           0.0025497,
           0.0024099,
           0.0022721,
           0.002136,
           0.0020017,
           0.001869,
           0.0017377,
           0.0016079,
           0.0014793,
           0.0013519,
           0.0012256,
           0.0011002,
           0.0009758,
           0.0008521,
           0.0007291,
           0.0006067,
           0.0004847,
           0.0003632,
           0.000242,
           0.0001209,
           0
          ],
          [
           0,
           0.018582,
           0.0324617,
           0.0425179,
           0.0495459,
           0.0542279,
           0.0571144,
           0.0586161,
           0.0590065,
           0.0584292,
           0.0569105,
           0.0543717,
           0.050642,
           0.0454705,
           0.0385366,
           0.0294623,
           0.0178229,
           0.003161,
           0.0030058,
           0.002853,
           0.0027026,
           0.0025544,
           0.0024082,
           0.002264,
           0.0021216,
           0.0019809,
           0.0018418,
           0.0017041,
           0.0015678,
           0.0014328,
           0.0012989,
           0.001166,
           0.0010341,
           0.000903,
           0.0007726,
           0.0006429,
           0.0005137,
           0.0003849,
           0.0002564,
           0.0001282,
           0
          ],
          [
           0,
           0.0186061,
           0.0325162,
           0.0426159,
           0.0497097,
           0.0544915,
           0.0575274,
           0.0592488,
           0.0599546,
           0.0598205,
           0.05891,
           0.0571873,
           0.0545284,
           0.0507309,
           0.0455226,
           0.0385696,
           0.0294853,
           0.0178403,
           0.0031738,
           0.0030126,
           0.0028538,
           0.0026974,
           0.0025431,
           0.0023908,
           0.0022404,
           0.0020918,
           0.0019449,
           0.0017995,
           0.0016555,
           0.0015129,
           0.0013715,
           0.0012312,
           0.0010918,
           0.0009534,
           0.0008158,
           0.0006788,
           0.0005423,
           0.0004064,
           0.0002707,
           0.0001353,
           0
          ],
          [
           0,
           0.0186202,
           0.0325483,
           0.0426748,
           0.0498099,
           0.0546562,
           0.0577912,
           0.0596615,
           0.0605864,
           0.0607672,
           0.0602992,
           0.0591841,
           0.0573406,
           0.0546129,
           0.0507777,
           0.0455491,
           0.0385851,
           0.029494,
           0.0178433,
           0.0031705,
           0.0030035,
           0.0028388,
           0.0026765,
           0.0025162,
           0.002358,
           0.0022016,
           0.0020469,
           0.0018939,
           0.0017424,
           0.0015922,
           0.0014434,
           0.0012957,
           0.001149,
           0.0010033,
           0.0008584,
           0.0007143,
           0.0005707,
           0.0004276,
           0.0002849,
           0.0001424,
           0
          ],
          [
           0,
           0.0186283,
           0.0325669,
           0.0427093,
           0.04987,
           0.054757,
           0.057956,
           0.0599249,
           0.0609985,
           0.0613981,
           0.0612448,
           0.0605717,
           0.0593352,
           0.0574223,
           0.0546563,
           0.0508001,
           0.0455598,
           0.0385883,
           0.0294909,
           0.0178332,
           0.0031514,
           0.0029788,
           0.0028085,
           0.0026404,
           0.0024743,
           0.0023102,
           0.0021479,
           0.0019873,
           0.0018282,
           0.0016707,
           0.0015144,
           0.0013594,
           0.0012055,
           0.0010526,
           0.0009006,
           0.0007493,
           0.0005987,
           0.0004486,
           0.0002988,
           0.0001494,
           0
          ],
          [
           0,
           0.0186328,
           0.0325774,
           0.0427292,
           0.0499052,
           0.0548173,
           0.0580568,
           0.0600896,
           0.0612617,
           0.0618098,
           0.061875,
           0.0615163,
           0.0607216,
           0.0594154,
           0.0574638,
           0.0546764,
           0.0508082,
           0.0455601,
           0.038582,
           0.0294775,
           0.0178108,
           0.0031172,
           0.002939,
           0.0027631,
           0.0025894,
           0.0024176,
           0.0022477,
           0.0020796,
           0.0019132,
           0.0017482,
           0.0015847,
           0.0014224,
           0.0012613,
           0.0011013,
           0.0009422,
           0.0007839,
           0.0006263,
           0.0004693,
           0.0003126,
           0.0001562,
           0
          ],
          [
           0,
           0.0186352,
           0.0325832,
           0.0427404,
           0.0499254,
           0.0548526,
           0.0581171,
           0.0601903,
           0.0614262,
           0.0620727,
           0.0622863,
           0.0621461,
           0.0616656,
           0.0608011,
           0.0594559,
           0.0574829,
           0.0546834,
           0.0508073,
           0.0455528,
           0.0385677,
           0.0294545,
           0.0177764,
           0.0030681,
           0.0028845,
           0.0027031,
           0.0025238,
           0.0023464,
           0.0021709,
           0.001997,
           0.0018248,
           0.001654,
           0.0014846,
           0.0013164,
           0.0011493,
           0.0009832,
           0.000818,
           0.0006535,
           0.0004896,
           0.0003262,
           0.000163,
           0
          ],
          [
           0,
           0.0186365,
           0.0325863,
           0.0427465,
           0.0499367,
           0.0548729,
           0.0581524,
           0.0602506,
           0.0615268,
           0.0622371,
           0.062549,
           0.0625571,
           0.0622951,
           0.0617447,
           0.0608412,
           0.0594747,
           0.0574896,
           0.0546825,
           0.0508003,
           0.0455392,
           0.0385462,
           0.0294224,
           0.0177306,
           0.0030045,
           0.0028156,
           0.0026287,
           0.0024439,
           0.002261,
           0.0020798,
           0.0019003,
           0.0017224,
           0.0015458,
           0.0013706,
           0.0011966,
           0.0010236,
           0.0008515,
           0.0006803,
           0.0005096,
           0.0003395,
           0.0001697,
           0
          ],
          [
           0,
           0.0186372,
           0.032588,
           0.0427497,
           0.0499428,
           0.0548842,
           0.0581726,
           0.0602858,
           0.061587,
           0.0623376,
           0.0627133,
           0.0628197,
           0.062706,
           0.062374,
           0.0617847,
           0.0608599,
           0.0594816,
           0.0574892,
           0.0546764,
           0.0507884,
           0.0455202,
           0.0385178,
           0.0293815,
           0.0176734,
           0.0029266,
           0.0027324,
           0.0025402,
           0.0023499,
           0.0021615,
           0.0019748,
           0.0017897,
           0.0016061,
           0.0014239,
           0.001243,
           0.0010632,
           0.0008844,
           0.0007065,
           0.0005292,
           0.0003525,
           0.0001762,
           0
          ],
          [
           0,
           0.0186375,
           0.0325887,
           0.0427513,
           0.049946,
           0.0548902,
           0.0581837,
           0.0603058,
           0.061622,
           0.0623975,
           0.0628136,
           0.0629838,
           0.0629684,
           0.0627847,
           0.062414,
           0.0618036,
           0.0608672,
           0.0594819,
           0.0574843,
           0.0546665,
           0.0507723,
           0.0454959,
           0.0384825,
           0.0293318,
           0.017605,
           0.0028347,
           0.0026351,
           0.0024376,
           0.0022419,
           0.0020481,
           0.0018559,
           0.0016653,
           0.0014762,
           0.0012885,
           0.001102,
           0.0009165,
           0.0007321,
           0.0005484,
           0.0003652,
           0.0001825,
           0
          ],
          [
           0,
           0.0186375,
           0.0325889,
           0.0427518,
           0.0499472,
           0.0548929,
           0.0581893,
           0.0603164,
           0.0616415,
           0.0624321,
           0.062873,
           0.0630835,
           0.0631319,
           0.0630467,
           0.0628243,
           0.0624325,
           0.0618108,
           0.0608678,
           0.0594779,
           0.057476,
           0.054653,
           0.0507519,
           0.0454662,
           0.0384403,
           0.0292731,
           0.0175252,
           0.0027288,
           0.002524,
           0.0023211,
           0.0021201,
           0.0019209,
           0.0017233,
           0.0015274,
           0.0013329,
           0.0011397,
           0.0009478,
           0.0007569,
           0.0005669,
           0.0003775,
           0.0001887,
           0
          ],
          [
           0,
           0.0186372,
           0.0325883,
           0.0427511,
           0.0499466,
           0.0548929,
           0.0581906,
           0.0603206,
           0.0616506,
           0.06245,
           0.062906,
           0.0631414,
           0.0632301,
           0.0632087,
           0.0630849,
           0.0628416,
           0.0624387,
           0.0618106,
           0.0608635,
           0.0594699,
           0.0574638,
           0.0546352,
           0.0507264,
           0.0454301,
           0.0383901,
           0.0292046,
           0.0174337,
           0.0026091,
           0.002399,
           0.0021908,
           0.0019845,
           0.00178,
           0.0015772,
           0.001376,
           0.0011763,
           0.000978,
           0.0007808,
           0.0005847,
           0.0003894,
           0.0001945,
           0
          ],
          [
           0,
           0.018636,
           0.032586,
           0.042748,
           0.0499429,
           0.0548889,
           0.058187,
           0.0603181,
           0.0616508,
           0.0624551,
           0.0629198,
           0.0631702,
           0.0632839,
           0.0633028,
           0.0632428,
           0.0630982,
           0.0628439,
           0.062435,
           0.0618032,
           0.060853,
           0.0594561,
           0.0574455,
           0.0546106,
           0.0506932,
           0.0453852,
           0.0383298,
           0.0291245,
           0.0173292,
           0.0024755,
           0.0022601,
           0.0020467,
           0.0018352,
           0.0016255,
           0.0014176,
           0.0012114,
           0.0010068,
           0.0008036,
           0.0006016,
           0.0004005,
           0.0002001,
           0
          ],
          [
           0,
           0.0186329,
           0.03258,
           0.0427393,
           0.049932,
           0.0548764,
           0.0581735,
           0.0603044,
           0.061638,
           0.0624447,
           0.0629142,
           0.0631734,
           0.063302,
           0.0633459,
           0.0633263,
           0.0632456,
           0.0630901,
           0.0628301,
           0.0624177,
           0.0617834,
           0.0608305,
           0.0594301,
           0.0574146,
           0.0545729,
           0.050646,
           0.0453253,
           0.0382534,
           0.0290277,
           0.0172082,
           0.0023278,
           0.0021072,
           0.0018885,
           0.001672,
           0.0014574,
           0.0012448,
           0.001034,
           0.000825,
           0.0006174,
           0.0004109,
           0.0002052,
           0
          ],
          [
           0,
           0.0186249,
           0.0325645,
           0.0427171,
           0.0499042,
           0.0548441,
           0.0581379,
           0.0602667,
           0.0615994,
           0.0624065,
           0.0628781,
           0.063142,
           0.0632792,
           0.0633381,
           0.0633434,
           0.0633032,
           0.0632117,
           0.0630505,
           0.0627874,
           0.0623729,
           0.0617364,
           0.0607809,
           0.0593767,
           0.057356,
           0.0545068,
           0.0505699,
           0.0452361,
           0.0381479,
           0.0289033,
           0.0170637,
           0.0021658,
           0.0019399,
           0.0017162,
           0.0014949,
           0.0012758,
           0.0010591,
           0.0008444,
           0.0006315,
           0.0004202,
           0.0002098,
           0
          ],
          [
           0,
           0.0186058,
           0.0325272,
           0.0426637,
           0.0498372,
           0.0547663,
           0.0580519,
           0.0601749,
           0.0615039,
           0.0623091,
           0.0627807,
           0.0630463,
           0.0631881,
           0.0632556,
           0.0632758,
           0.0632606,
           0.0632096,
           0.0631126,
           0.0629485,
           0.0626835,
           0.0622673,
           0.0616289,
           0.0606706,
           0.0592625,
           0.0572362,
           0.0543794,
           0.0504325,
           0.0450867,
           0.0379849,
           0.0287276,
           0.0168806,
           0.0019887,
           0.0017577,
           0.0015294,
           0.0013039,
           0.0010813,
           0.0008612,
           0.0006436,
           0.0004279,
           0.0002136,
           0
          ],
          [
           0,
           0.0185617,
           0.0324417,
           0.0425414,
           0.049684,
           0.0545886,
           0.0578558,
           0.0599657,
           0.0612858,
           0.0620856,
           0.0625543,
           0.0628193,
           0.0629627,
           0.0630346,
           0.0630634,
           0.0630631,
           0.0630371,
           0.0629808,
           0.0628809,
           0.0627152,
           0.0624489,
           0.0620313,
           0.0613909,
           0.0604298,
           0.0590177,
           0.0569859,
           0.0541223,
           0.0501675,
           0.0448139,
           0.0377076,
           0.0284543,
           0.01663,
           0.0017958,
           0.0015601,
           0.001328,
           0.0010995,
           0.0008745,
           0.0006527,
           0.0004336,
           0.0002163,
           0
          ],
          [
           0,
           0.0184654,
           0.032255,
           0.042275,
           0.0493513,
           0.0542038,
           0.0574321,
           0.0595144,
           0.0608158,
           0.0616036,
           0.0620652,
           0.0623266,
           0.062469,
           0.0625423,
           0.0625756,
           0.0625838,
           0.0625729,
           0.0625416,
           0.0624825,
           0.0623812,
           0.0622144,
           0.0619471,
           0.0615281,
           0.0608859,
           0.0599222,
           0.0585068,
           0.0564711,
           0.0536038,
           0.0496476,
           0.0442985,
           0.0372097,
           0.0279987,
           0.0162606,
           0.0015858,
           0.0013467,
           0.0011123,
           0.0008828,
           0.0006577,
           0.0004362,
           0.0002174,
           0
          ],
          [
           0,
           0.0182646,
           0.0318666,
           0.0417225,
           0.0486638,
           0.0534114,
           0.0565624,
           0.0585904,
           0.0598556,
           0.0606202,
           0.0610676,
           0.0613209,
           0.0614594,
           0.0615317,
           0.0615664,
           0.0615791,
           0.0615768,
           0.0615606,
           0.0615266,
           0.0614662,
           0.0613641,
           0.0611966,
           0.0609285,
           0.0605085,
           0.059865,
           0.0589,
           0.0574838,
           0.0554492,
           0.0525876,
           0.0486466,
           0.043331,
           0.0363081,
           0.0272179,
           0.0156886,
           0.0013577,
           0.0011175,
           0.0008839,
           0.0006565,
           0.0004345,
           0.0002162,
           0
          ],
          [
           0,
           0.0178644,
           0.0310954,
           0.0406306,
           0.0473122,
           0.051861,
           0.0548678,
           0.0567961,
           0.0579954,
           0.0587182,
           0.0591404,
           0.059379,
           0.0595095,
           0.0595781,
           0.0596121,
           0.0596265,
           0.0596287,
           0.0596212,
           0.0596025,
           0.0595673,
           0.0595062,
           0.0594037,
           0.059236,
           0.0589676,
           0.0585478,
           0.0579052,
           0.056943,
           0.0555335,
           0.0535134,
           0.0506804,
           0.0467931,
           0.0415733,
           0.034714,
           0.0258928,
           0.0147899,
           0.0011115,
           0.0008745,
           0.0006465,
           0.0004262,
           0.0002116,
           0
          ],
          [
           0,
           0.0171001,
           0.0296303,
           0.0385709,
           0.0447807,
           0.0489764,
           0.0517319,
           0.0534896,
           0.0545778,
           0.0552313,
           0.0556117,
           0.0558263,
           0.0559435,
           0.0560053,
           0.0560363,
           0.0560504,
           0.0560547,
           0.0560519,
           0.056042,
           0.0560221,
           0.0559865,
           0.0559254,
           0.0558232,
           0.0556562,
           0.0553897,
           0.0549736,
           0.0543384,
           0.0533905,
           0.0520073,
           0.0500339,
           0.0472818,
           0.0435297,
           0.0385293,
           0.0320157,
           0.0237223,
           0.0134019,
           0.0008495,
           0.0006231,
           0.0004082,
           0.0002018,
           0
          ],
          [
           0,
           0.0156915,
           0.0269553,
           0.0348517,
           0.0402575,
           0.0438678,
           0.0462171,
           0.0477048,
           0.0486205,
           0.0491678,
           0.0494853,
           0.0496638,
           0.0497611,
           0.0498124,
           0.0498383,
           0.0498505,
           0.0498551,
           0.0498547,
           0.0498497,
           0.0498389,
           0.0498189,
           0.0497837,
           0.0497236,
           0.0496236,
           0.0494609,
           0.0492022,
           0.0488004,
           0.0481904,
           0.0472858,
           0.0459753,
           0.044121,
           0.0415587,
           0.0381018,
           0.0335482,
           0.027693,
           0.0203441,
           0.0113418,
           0.0005795,
           0.0003751,
           0.000184,
           0
          ],
          [
           0,
           0.0131565,
           0.0222271,
           0.0283971,
           0.0325295,
           0.0352458,
           0.036993,
           0.0380899,
           0.0387607,
           0.0391596,
           0.0393901,
           0.0395193,
           0.0395896,
           0.0396266,
           0.0396454,
           0.0396544,
           0.039658,
           0.0396584,
           0.0396562,
           0.0396507,
           0.0396401,
           0.0396212,
           0.0395883,
           0.0395327,
           0.0394408,
           0.0392924,
           0.0390585,
           0.0386985,
           0.0381575,
           0.0373639,
           0.036228,
           0.0346415,
           0.0324801,
           0.0296081,
           0.0258869,
           0.0211857,
           0.0153961,
           0.0084468,
           0.0003188,
           0.0001535,
           0
          ],
          [
           0,
           0.0085965,
           0.0140466,
           0.0175782,
           0.0198759,
           0.0213593,
           0.0223022,
           0.0228895,
           0.0232466,
           0.0234581,
           0.0235799,
           0.0236481,
           0.0236851,
           0.0237046,
           0.0237144,
           0.0237192,
           0.0237212,
           0.0237216,
           0.0237208,
           0.0237185,
           0.023714,
           0.0237058,
           0.0236914,
           0.0236667,
           0.0236254,
           0.0235582,
           0.0234512,
           0.0232848,
           0.0230327,
           0.0226598,
           0.022122,
           0.0213656,
           0.0203286,
           0.018943,
           0.0171389,
           0.0148505,
           0.012023,
           0.0086213,
           0.004638,
           0.0001019,
           0
          ],
          [
           0,
           0,
           0,
           0,
           0,
           0,
           0,
           0,
           0,
           0,
           0,
           0,
           0,
           0,
           0,
           0,
           0,
           0,
           0,
           0,
           0,
           0,
           0,
           0,
           0,
           0,
           0,
           0,
           0,
           0,
           0,
           0,
           0,
           0,
           0,
           0,
           0,
           0,
           0,
           0,
           0
          ]
         ]
        }
       ],
       "layout": {
        "scene": {
         "xaxis": {
          "title": {
           "text": "X"
          }
         },
         "yaxis": {
          "title": {
           "text": "Y"
          }
         },
         "zaxis": {
          "title": {
           "text": "Z"
          }
         }
        },
        "template": {
         "data": {
          "bar": [
           {
            "error_x": {
             "color": "#2a3f5f"
            },
            "error_y": {
             "color": "#2a3f5f"
            },
            "marker": {
             "line": {
              "color": "#E5ECF6",
              "width": 0.5
             },
             "pattern": {
              "fillmode": "overlay",
              "size": 10,
              "solidity": 0.2
             }
            },
            "type": "bar"
           }
          ],
          "barpolar": [
           {
            "marker": {
             "line": {
              "color": "#E5ECF6",
              "width": 0.5
             },
             "pattern": {
              "fillmode": "overlay",
              "size": 10,
              "solidity": 0.2
             }
            },
            "type": "barpolar"
           }
          ],
          "carpet": [
           {
            "aaxis": {
             "endlinecolor": "#2a3f5f",
             "gridcolor": "white",
             "linecolor": "white",
             "minorgridcolor": "white",
             "startlinecolor": "#2a3f5f"
            },
            "baxis": {
             "endlinecolor": "#2a3f5f",
             "gridcolor": "white",
             "linecolor": "white",
             "minorgridcolor": "white",
             "startlinecolor": "#2a3f5f"
            },
            "type": "carpet"
           }
          ],
          "choropleth": [
           {
            "colorbar": {
             "outlinewidth": 0,
             "ticks": ""
            },
            "type": "choropleth"
           }
          ],
          "contour": [
           {
            "colorbar": {
             "outlinewidth": 0,
             "ticks": ""
            },
            "colorscale": [
             [
              0,
              "#0d0887"
             ],
             [
              0.1111111111111111,
              "#46039f"
             ],
             [
              0.2222222222222222,
              "#7201a8"
             ],
             [
              0.3333333333333333,
              "#9c179e"
             ],
             [
              0.4444444444444444,
              "#bd3786"
             ],
             [
              0.5555555555555556,
              "#d8576b"
             ],
             [
              0.6666666666666666,
              "#ed7953"
             ],
             [
              0.7777777777777778,
              "#fb9f3a"
             ],
             [
              0.8888888888888888,
              "#fdca26"
             ],
             [
              1,
              "#f0f921"
             ]
            ],
            "type": "contour"
           }
          ],
          "contourcarpet": [
           {
            "colorbar": {
             "outlinewidth": 0,
             "ticks": ""
            },
            "type": "contourcarpet"
           }
          ],
          "heatmap": [
           {
            "colorbar": {
             "outlinewidth": 0,
             "ticks": ""
            },
            "colorscale": [
             [
              0,
              "#0d0887"
             ],
             [
              0.1111111111111111,
              "#46039f"
             ],
             [
              0.2222222222222222,
              "#7201a8"
             ],
             [
              0.3333333333333333,
              "#9c179e"
             ],
             [
              0.4444444444444444,
              "#bd3786"
             ],
             [
              0.5555555555555556,
              "#d8576b"
             ],
             [
              0.6666666666666666,
              "#ed7953"
             ],
             [
              0.7777777777777778,
              "#fb9f3a"
             ],
             [
              0.8888888888888888,
              "#fdca26"
             ],
             [
              1,
              "#f0f921"
             ]
            ],
            "type": "heatmap"
           }
          ],
          "heatmapgl": [
           {
            "colorbar": {
             "outlinewidth": 0,
             "ticks": ""
            },
            "colorscale": [
             [
              0,
              "#0d0887"
             ],
             [
              0.1111111111111111,
              "#46039f"
             ],
             [
              0.2222222222222222,
              "#7201a8"
             ],
             [
              0.3333333333333333,
              "#9c179e"
             ],
             [
              0.4444444444444444,
              "#bd3786"
             ],
             [
              0.5555555555555556,
              "#d8576b"
             ],
             [
              0.6666666666666666,
              "#ed7953"
             ],
             [
              0.7777777777777778,
              "#fb9f3a"
             ],
             [
              0.8888888888888888,
              "#fdca26"
             ],
             [
              1,
              "#f0f921"
             ]
            ],
            "type": "heatmapgl"
           }
          ],
          "histogram": [
           {
            "marker": {
             "pattern": {
              "fillmode": "overlay",
              "size": 10,
              "solidity": 0.2
             }
            },
            "type": "histogram"
           }
          ],
          "histogram2d": [
           {
            "colorbar": {
             "outlinewidth": 0,
             "ticks": ""
            },
            "colorscale": [
             [
              0,
              "#0d0887"
             ],
             [
              0.1111111111111111,
              "#46039f"
             ],
             [
              0.2222222222222222,
              "#7201a8"
             ],
             [
              0.3333333333333333,
              "#9c179e"
             ],
             [
              0.4444444444444444,
              "#bd3786"
             ],
             [
              0.5555555555555556,
              "#d8576b"
             ],
             [
              0.6666666666666666,
              "#ed7953"
             ],
             [
              0.7777777777777778,
              "#fb9f3a"
             ],
             [
              0.8888888888888888,
              "#fdca26"
             ],
             [
              1,
              "#f0f921"
             ]
            ],
            "type": "histogram2d"
           }
          ],
          "histogram2dcontour": [
           {
            "colorbar": {
             "outlinewidth": 0,
             "ticks": ""
            },
            "colorscale": [
             [
              0,
              "#0d0887"
             ],
             [
              0.1111111111111111,
              "#46039f"
             ],
             [
              0.2222222222222222,
              "#7201a8"
             ],
             [
              0.3333333333333333,
              "#9c179e"
             ],
             [
              0.4444444444444444,
              "#bd3786"
             ],
             [
              0.5555555555555556,
              "#d8576b"
             ],
             [
              0.6666666666666666,
              "#ed7953"
             ],
             [
              0.7777777777777778,
              "#fb9f3a"
             ],
             [
              0.8888888888888888,
              "#fdca26"
             ],
             [
              1,
              "#f0f921"
             ]
            ],
            "type": "histogram2dcontour"
           }
          ],
          "mesh3d": [
           {
            "colorbar": {
             "outlinewidth": 0,
             "ticks": ""
            },
            "type": "mesh3d"
           }
          ],
          "parcoords": [
           {
            "line": {
             "colorbar": {
              "outlinewidth": 0,
              "ticks": ""
             }
            },
            "type": "parcoords"
           }
          ],
          "pie": [
           {
            "automargin": true,
            "type": "pie"
           }
          ],
          "scatter": [
           {
            "fillpattern": {
             "fillmode": "overlay",
             "size": 10,
             "solidity": 0.2
            },
            "type": "scatter"
           }
          ],
          "scatter3d": [
           {
            "line": {
             "colorbar": {
              "outlinewidth": 0,
              "ticks": ""
             }
            },
            "marker": {
             "colorbar": {
              "outlinewidth": 0,
              "ticks": ""
             }
            },
            "type": "scatter3d"
           }
          ],
          "scattercarpet": [
           {
            "marker": {
             "colorbar": {
              "outlinewidth": 0,
              "ticks": ""
             }
            },
            "type": "scattercarpet"
           }
          ],
          "scattergeo": [
           {
            "marker": {
             "colorbar": {
              "outlinewidth": 0,
              "ticks": ""
             }
            },
            "type": "scattergeo"
           }
          ],
          "scattergl": [
           {
            "marker": {
             "colorbar": {
              "outlinewidth": 0,
              "ticks": ""
             }
            },
            "type": "scattergl"
           }
          ],
          "scattermapbox": [
           {
            "marker": {
             "colorbar": {
              "outlinewidth": 0,
              "ticks": ""
             }
            },
            "type": "scattermapbox"
           }
          ],
          "scatterpolar": [
           {
            "marker": {
             "colorbar": {
              "outlinewidth": 0,
              "ticks": ""
             }
            },
            "type": "scatterpolar"
           }
          ],
          "scatterpolargl": [
           {
            "marker": {
             "colorbar": {
              "outlinewidth": 0,
              "ticks": ""
             }
            },
            "type": "scatterpolargl"
           }
          ],
          "scatterternary": [
           {
            "marker": {
             "colorbar": {
              "outlinewidth": 0,
              "ticks": ""
             }
            },
            "type": "scatterternary"
           }
          ],
          "surface": [
           {
            "colorbar": {
             "outlinewidth": 0,
             "ticks": ""
            },
            "colorscale": [
             [
              0,
              "#0d0887"
             ],
             [
              0.1111111111111111,
              "#46039f"
             ],
             [
              0.2222222222222222,
              "#7201a8"
             ],
             [
              0.3333333333333333,
              "#9c179e"
             ],
             [
              0.4444444444444444,
              "#bd3786"
             ],
             [
              0.5555555555555556,
              "#d8576b"
             ],
             [
              0.6666666666666666,
              "#ed7953"
             ],
             [
              0.7777777777777778,
              "#fb9f3a"
             ],
             [
              0.8888888888888888,
              "#fdca26"
             ],
             [
              1,
              "#f0f921"
             ]
            ],
            "type": "surface"
           }
          ],
          "table": [
           {
            "cells": {
             "fill": {
              "color": "#EBF0F8"
             },
             "line": {
              "color": "white"
             }
            },
            "header": {
             "fill": {
              "color": "#C8D4E3"
             },
             "line": {
              "color": "white"
             }
            },
            "type": "table"
           }
          ]
         },
         "layout": {
          "annotationdefaults": {
           "arrowcolor": "#2a3f5f",
           "arrowhead": 0,
           "arrowwidth": 1
          },
          "autotypenumbers": "strict",
          "coloraxis": {
           "colorbar": {
            "outlinewidth": 0,
            "ticks": ""
           }
          },
          "colorscale": {
           "diverging": [
            [
             0,
             "#8e0152"
            ],
            [
             0.1,
             "#c51b7d"
            ],
            [
             0.2,
             "#de77ae"
            ],
            [
             0.3,
             "#f1b6da"
            ],
            [
             0.4,
             "#fde0ef"
            ],
            [
             0.5,
             "#f7f7f7"
            ],
            [
             0.6,
             "#e6f5d0"
            ],
            [
             0.7,
             "#b8e186"
            ],
            [
             0.8,
             "#7fbc41"
            ],
            [
             0.9,
             "#4d9221"
            ],
            [
             1,
             "#276419"
            ]
           ],
           "sequential": [
            [
             0,
             "#0d0887"
            ],
            [
             0.1111111111111111,
             "#46039f"
            ],
            [
             0.2222222222222222,
             "#7201a8"
            ],
            [
             0.3333333333333333,
             "#9c179e"
            ],
            [
             0.4444444444444444,
             "#bd3786"
            ],
            [
             0.5555555555555556,
             "#d8576b"
            ],
            [
             0.6666666666666666,
             "#ed7953"
            ],
            [
             0.7777777777777778,
             "#fb9f3a"
            ],
            [
             0.8888888888888888,
             "#fdca26"
            ],
            [
             1,
             "#f0f921"
            ]
           ],
           "sequentialminus": [
            [
             0,
             "#0d0887"
            ],
            [
             0.1111111111111111,
             "#46039f"
            ],
            [
             0.2222222222222222,
             "#7201a8"
            ],
            [
             0.3333333333333333,
             "#9c179e"
            ],
            [
             0.4444444444444444,
             "#bd3786"
            ],
            [
             0.5555555555555556,
             "#d8576b"
            ],
            [
             0.6666666666666666,
             "#ed7953"
            ],
            [
             0.7777777777777778,
             "#fb9f3a"
            ],
            [
             0.8888888888888888,
             "#fdca26"
            ],
            [
             1,
             "#f0f921"
            ]
           ]
          },
          "colorway": [
           "#636efa",
           "#EF553B",
           "#00cc96",
           "#ab63fa",
           "#FFA15A",
           "#19d3f3",
           "#FF6692",
           "#B6E880",
           "#FF97FF",
           "#FECB52"
          ],
          "font": {
           "color": "#2a3f5f"
          },
          "geo": {
           "bgcolor": "white",
           "lakecolor": "white",
           "landcolor": "#E5ECF6",
           "showlakes": true,
           "showland": true,
           "subunitcolor": "white"
          },
          "hoverlabel": {
           "align": "left"
          },
          "hovermode": "closest",
          "mapbox": {
           "style": "light"
          },
          "paper_bgcolor": "white",
          "plot_bgcolor": "#E5ECF6",
          "polar": {
           "angularaxis": {
            "gridcolor": "white",
            "linecolor": "white",
            "ticks": ""
           },
           "bgcolor": "#E5ECF6",
           "radialaxis": {
            "gridcolor": "white",
            "linecolor": "white",
            "ticks": ""
           }
          },
          "scene": {
           "xaxis": {
            "backgroundcolor": "#E5ECF6",
            "gridcolor": "white",
            "gridwidth": 2,
            "linecolor": "white",
            "showbackground": true,
            "ticks": "",
            "zerolinecolor": "white"
           },
           "yaxis": {
            "backgroundcolor": "#E5ECF6",
            "gridcolor": "white",
            "gridwidth": 2,
            "linecolor": "white",
            "showbackground": true,
            "ticks": "",
            "zerolinecolor": "white"
           },
           "zaxis": {
            "backgroundcolor": "#E5ECF6",
            "gridcolor": "white",
            "gridwidth": 2,
            "linecolor": "white",
            "showbackground": true,
            "ticks": "",
            "zerolinecolor": "white"
           }
          },
          "shapedefaults": {
           "line": {
            "color": "#2a3f5f"
           }
          },
          "ternary": {
           "aaxis": {
            "gridcolor": "white",
            "linecolor": "white",
            "ticks": ""
           },
           "baxis": {
            "gridcolor": "white",
            "linecolor": "white",
            "ticks": ""
           },
           "bgcolor": "#E5ECF6",
           "caxis": {
            "gridcolor": "white",
            "linecolor": "white",
            "ticks": ""
           }
          },
          "title": {
           "x": 0.05
          },
          "xaxis": {
           "automargin": true,
           "gridcolor": "white",
           "linecolor": "white",
           "ticks": "",
           "title": {
            "standoff": 15
           },
           "zerolinecolor": "white",
           "zerolinewidth": 2
          },
          "yaxis": {
           "automargin": true,
           "gridcolor": "white",
           "linecolor": "white",
           "ticks": "",
           "title": {
            "standoff": 15
           },
           "zerolinecolor": "white",
           "zerolinewidth": 2
          }
         }
        },
        "title": {
         "text": "Визуализация w(x,y), (M, N) = (40, 40)"
        }
       }
      }
     },
     "metadata": {},
     "output_type": "display_data"
    }
   ],
   "source": [
    "import plotly.graph_objects as go\n",
    "\n",
    "# Загрузка данных из файла\n",
    "data = np.loadtxt('./parallel_23/output.txt')\n",
    "\n",
    "# Получение размеров массива\n",
    "rows, cols = data.shape\n",
    "\n",
    "# Создание сетки для осей X и Y\n",
    "x = np.linspace(A1, A2, cols)\n",
    "y = np.linspace(B1, B2, rows)\n",
    "\n",
    "X, Y = np.meshgrid(x, y)\n",
    "\n",
    "# Создание 3D-поверхности\n",
    "fig = go.Figure(data=[go.Surface(z=data, x=x, y=y, colorscale='Viridis')])\n",
    "\n",
    "# Настройка меток осей\n",
    "fig.update_layout(scene=dict(xaxis_title='X', yaxis_title='Y', zaxis_title='Z'),\n",
    "                  title='Визуализация w(x,y), (M, N) = (40, 40)')\n",
    "\n",
    "# Отображение графика\n",
    "fig.show()"
   ]
  },
  {
   "cell_type": "code",
   "execution_count": 17,
   "metadata": {},
   "outputs": [],
   "source": [
    "import numpy as np\n",
    "\n",
    "def calculate_laplacian(u, h):\n",
    "    rows, cols = u.shape\n",
    "    laplacian = np.zeros_like(u)\n",
    "\n",
    "    for i in range(1, rows - 1):\n",
    "        for j in range(1, cols - 1):\n",
    "            laplacian[i, j] = (u[i + 1, j] + u[i - 1, j] + u[i, j + 1] + u[i, j - 1] - 4 * u[i, j]) / (h ** 2)\n",
    "\n",
    "    return laplacian\n"
   ]
  },
  {
   "cell_type": "code",
   "execution_count": 22,
   "metadata": {},
   "outputs": [
    {
     "data": {
      "application/vnd.plotly.v1+json": {
       "config": {
        "plotlyServerURL": "https://plot.ly"
       },
       "data": [
        {
         "colorscale": [
          [
           0,
           "#440154"
          ],
          [
           0.1111111111111111,
           "#482878"
          ],
          [
           0.2222222222222222,
           "#3e4989"
          ],
          [
           0.3333333333333333,
           "#31688e"
          ],
          [
           0.4444444444444444,
           "#26828e"
          ],
          [
           0.5555555555555556,
           "#1f9e89"
          ],
          [
           0.6666666666666666,
           "#35b779"
          ],
          [
           0.7777777777777778,
           "#6ece58"
          ],
          [
           0.8888888888888888,
           "#b5de2b"
          ],
          [
           1,
           "#fde725"
          ]
         ],
         "type": "surface",
         "x": [
          0,
          0.075,
          0.15,
          0.22499999999999998,
          0.3,
          0.375,
          0.44999999999999996,
          0.525,
          0.6,
          0.6749999999999999,
          0.75,
          0.825,
          0.8999999999999999,
          0.975,
          1.05,
          1.125,
          1.2,
          1.275,
          1.3499999999999999,
          1.425,
          1.5,
          1.575,
          1.65,
          1.7249999999999999,
          1.7999999999999998,
          1.875,
          1.95,
          2.025,
          2.1,
          2.175,
          2.25,
          2.3249999999999997,
          2.4,
          2.475,
          2.55,
          2.625,
          2.6999999999999997,
          2.775,
          2.85,
          2.925,
          3
         ],
         "y": [
          0,
          0.1,
          0.2,
          0.30000000000000004,
          0.4,
          0.5,
          0.6000000000000001,
          0.7000000000000001,
          0.8,
          0.9,
          1,
          1.1,
          1.2000000000000002,
          1.3,
          1.4000000000000001,
          1.5,
          1.6,
          1.7000000000000002,
          1.8,
          1.9000000000000001,
          2,
          2.1,
          2.2,
          2.3000000000000003,
          2.4000000000000004,
          2.5,
          2.6,
          2.7,
          2.8000000000000003,
          2.9000000000000004,
          3,
          3.1,
          3.2,
          3.3000000000000003,
          3.4000000000000004,
          3.5,
          3.6,
          3.7,
          3.8000000000000003,
          3.9000000000000004,
          4
         ],
         "z": [
          [
           0,
           0,
           0,
           0,
           0,
           0,
           0,
           0,
           0,
           0,
           0,
           0,
           0,
           0,
           0,
           0,
           0,
           0,
           0,
           0,
           0,
           0,
           0,
           0,
           0,
           0,
           0,
           0,
           0,
           0,
           0,
           0,
           0,
           0,
           0,
           0,
           0,
           0,
           0,
           0,
           0
          ],
          [
           0,
           0.0025732000000000003,
           0.000012799999999999877,
           0.000008199999999999982,
           0.000005400000000000023,
           0.000003900000000000041,
           0.0000027000000000002283,
           0.000002199999999999945,
           0.0000014999999999999823,
           0.0000012999999999999774,
           0.000001100000000000081,
           6.000000000000146e-7,
           6.00000000000123e-7,
           3.999999999999013e-7,
           2.999999999999531e-7,
           4.999999999999579e-7,
           2.999999999999531e-7,
           9.999999999994822e-8,
           1.0842021724855044e-19,
           2.999999999999531e-7,
           9.999999999994822e-8,
           0,
           0,
           2.0000000000000486e-7,
           2.0000000000000486e-7,
           0,
           1.0000000000000243e-7,
           -9.999999999994822e-8,
           -5.421010862427522e-20,
           -1.0000000000000243e-7,
           0,
           -1.0000000000000243e-7,
           -1.0000000000000243e-7,
           2.0000000000000486e-7,
           2.0000000000000486e-7,
           -2.0000000000000486e-7,
           1.0000000000000243e-7,
           1.3552527156068805e-20,
           0,
           0,
           0
          ],
          [
           0,
           -0.0056685,
           0.0078749,
           0.000012799999999999877,
           0.000009300000000000063,
           0.000006599999999999835,
           0.00000500000000000023,
           0.0000039000000000002574,
           0.0000027000000000000114,
           0.000002199999999999945,
           0.0000016999999999998787,
           0.0000014000000000001424,
           9.999999999999159e-7,
           8.000000000000194e-7,
           7.999999999998026e-7,
           2.9999999999973624e-7,
           4.000000000000097e-7,
           4.000000000000097e-7,
           4.000000000000097e-7,
           2.0000000000011328e-7,
           9.99999999998398e-8,
           2.0000000000011328e-7,
           1.9999999999989644e-7,
           1.0000000000005664e-7,
           0,
           0,
           0,
           1.0000000000005664e-7,
           2.999999999999531e-7,
           0,
           2.999999999999531e-7,
           0,
           2.999999999999531e-7,
           -9.999999999994822e-8,
           -1.0000000000005664e-7,
           2.0000000000000486e-7,
           9.999999999994822e-8,
           2.710505431213761e-20,
           -1.0000000000000243e-7,
           0,
           0
          ],
          [
           0,
           -0.005683899999999999,
           -0.005750100000000001,
           0.0128167,
           0.00001080000000000048,
           0.00000850000000000026,
           0.000006399999999999722,
           0.000004699999999999843,
           0.000003899999999999824,
           0.0000029999999999999645,
           0.000002199999999999945,
           0.0000018000000000001522,
           0.0000013999999999999256,
           0.0000013000000000000858,
           8.000000000000194e-7,
           0.0000010000000000001327,
           5.999999999999062e-7,
           5.999999999999062e-7,
           5.000000000000664e-7,
           3.999999999997929e-7,
           4.000000000000097e-7,
           5.000000000000664e-7,
           1.9999999999989644e-7,
           9.99999999998398e-8,
           2.999999999999531e-7,
           2.999999999999531e-7,
           3.000000000001699e-7,
           1.9999999999989644e-7,
           0,
           1.9999999999989644e-7,
           -1.0842021724855044e-19,
           2.0000000000000486e-7,
           1.0842021724855044e-19,
           1.0842021724855044e-19,
           0,
           -9.999999999994822e-8,
           2.0000000000005907e-7,
           -2.0000000000000486e-7,
           3.000000000000073e-7,
           -1.999999999999913e-7,
           0
          ],
          [
           0,
           -0.005681199999999997,
           -0.005755400000000001,
           -0.0058625,
           0.0171616,
           0.000008700000000000374,
           0.000006800000000000382,
           0.000005300000000000617,
           0.00000409999999999907,
           0.000003500000000000031,
           0.000002499999999999898,
           0.000002199999999999945,
           0.0000016000000000000389,
           0.000001399999999999492,
           0.000001200000000000246,
           8.999999999998592e-7,
           8.000000000000194e-7,
           5.999999999999062e-7,
           7.000000000001796e-7,
           2.999999999999531e-7,
           6.000000000003398e-7,
           9.99999999998398e-8,
           2.999999999999531e-7,
           3.999999999997929e-7,
           1.999999999996796e-7,
           2.999999999999531e-7,
           9.99999999998398e-8,
           2.0000000000011328e-7,
           9.99999999998398e-8,
           2.168404344971009e-19,
           9.99999999998398e-8,
           1.0000000000005664e-7,
           -2.168404344971009e-19,
           2.0000000000011328e-7,
           2.0000000000011328e-7,
           -1.0000000000005664e-7,
           0,
           1.0000000000000243e-7,
           -1.0000000000005664e-7,
           2.0000000000000486e-7,
           0
          ],
          [
           0,
           -0.005645899999999995,
           -0.005697300000000002,
           -0.0058034,
           -0.0059776,
           0.020748899999999997,
           0.000006499999999999562,
           0.000005099999999999202,
           0.0000042000000000002105,
           0.0000030999999999998043,
           0.0000029000000000001247,
           0.000001999999999999398,
           0.0000018000000000005859,
           0.0000014999999999997654,
           0.0000011999999999998123,
           0.0000010000000000001327,
           9.000000000002929e-7,
           8.000000000004531e-7,
           4.0000000000022656e-7,
           6.99999999999746e-7,
           3.999999999997929e-7,
           5.999999999999062e-7,
           2.0000000000011328e-7,
           3.999999999997929e-7,
           2.0000000000011328e-7,
           1.0000000000027348e-7,
           2.0000000000011328e-7,
           2.999999999999531e-7,
           9.99999999998398e-8,
           4.000000000000097e-7,
           1.0000000000005664e-7,
           -2.168404344971009e-19,
           1.0000000000005664e-7,
           1.0000000000005664e-7,
           1.0000000000005664e-7,
           1.0000000000005664e-7,
           9.999999999994822e-8,
           1.0000000000000243e-7,
           2.0000000000000486e-7,
           0,
           0
          ],
          [
           0,
           -0.0055760000000000046,
           -0.005568400000000001,
           -0.005636799999999997,
           -0.00580230000000001,
           -0.006071099999999996,
           0.0235287,
           0.000004500000000000164,
           0.0000036999999999997105,
           0.000003000000000000398,
           0.000002499999999999898,
           0.0000020999999999996716,
           0.0000015999999999991715,
           0.0000013000000000000858,
           0.0000012999999999992184,
           9.000000000007266e-7,
           7.000000000001796e-7,
           8.999999999998592e-7,
           5.999999999999062e-7,
           5.999999999999062e-7,
           4.0000000000022656e-7,
           6.000000000003398e-7,
           3.999999999997929e-7,
           2.999999999999531e-7,
           3.0000000000038676e-7,
           5.000000000000664e-7,
           2.0000000000011328e-7,
           4.0000000000022656e-7,
           2.0000000000011328e-7,
           2.0000000000011328e-7,
           0,
           4.000000000000097e-7,
           1.0000000000005664e-7,
           9.99999999998398e-8,
           2.9999999999973624e-7,
           -1.0842021724855044e-19,
           1.0842021724855044e-19,
           2.0000000000000486e-7,
           -2.0000000000005907e-7,
           -1.0000000000002954e-7,
           0
          ],
          [
           0,
           -0.0054762000000000005,
           -0.005378499999999994,
           -0.005375400000000002,
           -0.005495200000000006,
           -0.005749500000000005,
           -0.0061310999999999935,
           0.0255545,
           0.000003099999999998937,
           0.0000023000000000002185,
           0.000002199999999999945,
           0.0000016000000000000389,
           0.000001699999999999445,
           0.0000012000000000006797,
           0.0000010000000000001327,
           0.0000012000000000006797,
           8.999999999998592e-7,
           7.000000000001796e-7,
           6.000000000007735e-7,
           7.000000000001796e-7,
           4.999999999996327e-7,
           4.0000000000022656e-7,
           5.000000000005e-7,
           4.0000000000022656e-7,
           4.999999999996327e-7,
           2.0000000000011328e-7,
           9.99999999998398e-8,
           3.999999999997929e-7,
           0,
           4.0000000000022656e-7,
           2.999999999999531e-7,
           -2.168404344971009e-19,
           9.99999999998398e-8,
           1.0000000000005664e-7,
           0,
           1.0000000000005664e-7,
           9.999999999994822e-8,
           -1.9999999999989644e-7,
           3.000000000000073e-7,
           2.710505431213761e-20,
           0
          ],
          [
           0,
           -0.005358399999999992,
           -0.005150100000000005,
           -0.0050494999999999984,
           -0.0050928999999999836,
           -0.005296999999999996,
           -0.0056587000000000165,
           -0.006158900000000002,
           0.026946599999999994,
           0.0000020000000000002655,
           0.0000015999999999991715,
           0.0000016000000000000389,
           0.0000011000000000004062,
           0.0000012999999999992184,
           0.0000010999999999995388,
           7.999999999995858e-7,
           7.999999999995858e-7,
           7.999999999995858e-7,
           5.999999999990388e-7,
           7.000000000001796e-7,
           5.000000000005e-7,
           2.999999999990857e-7,
           5.999999999999062e-7,
           2.999999999999531e-7,
           2.999999999999531e-7,
           5.000000000000664e-7,
           3.999999999997929e-7,
           1.999999999996796e-7,
           4.0000000000022656e-7,
           9.999999999940612e-8,
           9.99999999998398e-8,
           3.999999999997929e-7,
           1.999999999996796e-7,
           3.000000000001699e-7,
           0,
           0,
           9.99999999998398e-8,
           2.0000000000000486e-7,
           -1.0000000000005664e-7,
           1.0000000000000243e-7,
           0
          ],
          [
           0,
           -0.005234900000000001,
           -0.0049072999999999894,
           -0.00469710000000001,
           -0.004643899999999979,
           -0.004770100000000027,
           -0.00507740000000001,
           -0.005551499999999987,
           -0.0061622999999999956,
           0.0278493,
           0.0000011999999999998123,
           9.00000000001594e-7,
           9.999999999992654e-7,
           7.00000000001047e-7,
           8.999999999998592e-7,
           6.999999999993123e-7,
           5.999999999990388e-7,
           7.000000000001796e-7,
           3.999999999993592e-7,
           6.999999999993123e-7,
           5.999999999999062e-7,
           5.999999999999062e-7,
           4.0000000000022656e-7,
           4.0000000000022656e-7,
           2.999999999999531e-7,
           5.000000000005e-7,
           3.999999999993592e-7,
           2.999999999995194e-7,
           4.0000000000022656e-7,
           4.336808689942018e-19,
           3.999999999997929e-7,
           1.999999999996796e-7,
           4.336808689942018e-19,
           2.0000000000011328e-7,
           1.999999999996796e-7,
           2.999999999999531e-7,
           1.0000000000005664e-7,
           1.0000000000005664e-7,
           -9.999999999994822e-8,
           1.0000000000000243e-7,
           0
          ],
          [
           0,
           -0.005117299999999991,
           -0.004673700000000003,
           -0.004351099999999969,
           -0.0041927999999999965,
           -0.004224299999999986,
           -0.004453299999999993,
           -0.004868499999999998,
           -0.005446000000000006,
           -0.0061504,
           0.0284019,
           7.00000000001047e-7,
           5.999999999981714e-7,
           5.999999999999062e-7,
           6.999999999993123e-7,
           5.999999999999062e-7,
           6.999999999993123e-7,
           5.999999999999062e-7,
           7.000000000001796e-7,
           5.000000000005e-7,
           5.000000000005e-7,
           5.999999999999062e-7,
           3.0000000000082044e-7,
           4.999999999996327e-7,
           3.999999999993592e-7,
           1.999999999996796e-7,
           2.999999999999531e-7,
           2.0000000000054696e-7,
           2.999999999999531e-7,
           4.999999999996327e-7,
           2.0000000000011328e-7,
           3.999999999997929e-7,
           9.99999999998398e-8,
           9.99999999998398e-8,
           2.0000000000033012e-7,
           -1.0000000000005664e-7,
           1.9999999999989644e-7,
           1.0000000000005664e-7,
           0,
           -1.0000000000000243e-7,
           0
          ],
          [
           0,
           -0.005012700000000009,
           -0.004463899999999993,
           -0.004036100000000015,
           -0.0037739999999999996,
           -0.003704700000000005,
           -0.0038407000000000024,
           -0.0041754000000000235,
           -0.00469,
           -0.005354300000000006,
           -0.006131899999999996,
           0.028719699999999997,
           3.999999999993592e-7,
           5.000000000005e-7,
           2.999999999999531e-7,
           6.999999999993123e-7,
           5.999999999999062e-7,
           4.999999999987653e-7,
           5.000000000005e-7,
           4.0000000000022656e-7,
           7.000000000001796e-7,
           2.999999999999531e-7,
           5.999999999999062e-7,
           5.000000000005e-7,
           4.999999999996327e-7,
           5.000000000005e-7,
           2.999999999999531e-7,
           4.999999999996327e-7,
           3.999999999993592e-7,
           2.0000000000011328e-7,
           9.99999999998398e-8,
           0,
           3.999999999997929e-7,
           2.999999999999531e-7,
           9.99999999998398e-8,
           3.000000000001699e-7,
           0,
           1.0000000000005664e-7,
           2.0000000000000486e-7,
           5.421010862427522e-20,
           0
          ],
          [
           0,
           -0.004925299999999994,
           -0.004287399999999997,
           -0.0037668000000000146,
           -0.0034078999999999915,
           -0.003240799999999988,
           -0.003278100000000006,
           -0.0035198000000000174,
           -0.0039515999999999996,
           -0.004548799999999992,
           -0.005281299999999989,
           -0.006112000000000006,
           0.0288888,
           4.999999999987653e-7,
           5.000000000005e-7,
           5.999999999999062e-7,
           2.999999999999531e-7,
           7.00000000001047e-7,
           2.999999999999531e-7,
           8.000000000004531e-7,
           4.0000000000022656e-7,
           5.999999999999062e-7,
           5.000000000005e-7,
           5.999999999999062e-7,
           1.999999999996796e-7,
           5.999999999999062e-7,
           2.999999999999531e-7,
           4.0000000000022656e-7,
           2.0000000000054696e-7,
           3.999999999993592e-7,
           3.999999999997929e-7,
           3.999999999997929e-7,
           9.99999999998398e-8,
           2.999999999999531e-7,
           4.336808689942018e-19,
           2.0000000000011328e-7,
           2.0000000000011328e-7,
           9.99999999998398e-8,
           1.0000000000005664e-7,
           -1.0000000000000243e-7,
           0
          ],
          [
           0,
           -0.004855999999999999,
           -0.004145300000000018,
           -0.003547699999999987,
           -0.003104699999999988,
           -0.0028464000000000267,
           -0.0027885999999999744,
           -0.002933000000000019,
           -0.0032706999999999875,
           -0.0037830999999999837,
           -0.004444900000000029,
           -0.005226499999999995,
           -0.006094199999999994,
           0.0289703,
           3.999999999993592e-7,
           9.99999999976714e-8,
           7.00000000001047e-7,
           3.999999999993592e-7,
           5.000000000005e-7,
           2.999999999999531e-7,
           4.999999999987653e-7,
           4.000000000010939e-7,
           5.000000000005e-7,
           2.999999999999531e-7,
           5.000000000005e-7,
           4.0000000000022656e-7,
           2.999999999999531e-7,
           5.000000000005e-7,
           5.000000000005e-7,
           1.999999999996796e-7,
           1.0000000000027348e-7,
           4.0000000000022656e-7,
           2.0000000000011328e-7,
           2.999999999999531e-7,
           9.99999999998398e-8,
           9.99999999998398e-8,
           2.168404344971009e-19,
           0,
           9.999999999994822e-8,
           1.0000000000000243e-7,
           0
          ],
          [
           0,
           -0.004802699999999993,
           -0.00403690000000001,
           -0.0033764000000000016,
           -0.002863300000000013,
           -0.002526300000000009,
           -0.002380099999999996,
           -0.002430500000000002,
           -0.0026706999999999703,
           -0.0030881000000000103,
           -0.0036630999999999747,
           -0.004371700000000006,
           -0.005187299999999992,
           -0.006079399999999999,
           0.029002800000000006,
           5.999999999999062e-7,
           2.9999999999821836e-7,
           6.000000000016409e-7,
           5.999999999981714e-7,
           5.999999999999062e-7,
           6.999999999993123e-7,
           3.999999999993592e-7,
           5.000000000005e-7,
           5.999999999999062e-7,
           4.999999999996327e-7,
           4.0000000000022656e-7,
           2.999999999999531e-7,
           4.999999999996327e-7,
           2.999999999999531e-7,
           2.999999999999531e-7,
           4.999999999996327e-7,
           2.0000000000011328e-7,
           3.999999999997929e-7,
           4.336808689942018e-19,
           2.0000000000011328e-7,
           1.0000000000027348e-7,
           2.999999999999531e-7,
           0,
           1.0000000000005664e-7,
           1.0000000000000243e-7,
           0
          ],
          [
           0,
           -0.004764499999999991,
           -0.00395609999999999,
           -0.0032483000000000095,
           -0.002678900000000012,
           -0.0022746999999999906,
           -0.0020519999999999983,
           -0.0020155999999999785,
           -0.002162299999999978,
           -0.0024817000000000033,
           -0.0029611999999999694,
           -0.003581600000000018,
           -0.0043229999999999935,
           -0.005160200000000004,
           -0.006067200000000009,
           0.029011500000000003,
           2.999999999999531e-7,
           5.999999999999062e-7,
           5.999999999999062e-7,
           3.999999999993592e-7,
           5.000000000005e-7,
           5.000000000005e-7,
           7.00000000001047e-7,
           2.999999999999531e-7,
           4.999999999996327e-7,
           7.000000000001796e-7,
           2.999999999999531e-7,
           3.999999999993592e-7,
           4.0000000000022656e-7,
           4.999999999996327e-7,
           1.0000000000027348e-7,
           2.0000000000054696e-7,
           3.999999999997929e-7,
           3.999999999997929e-7,
           4.336808689942018e-19,
           3.999999999997929e-7,
           -2.0000000000011328e-7,
           2.999999999999531e-7,
           9.999999999994822e-8,
           -2.0000000000000486e-7,
           0
          ],
          [
           0,
           -0.004737199999999997,
           -0.003898700000000005,
           -0.0031552999999999998,
           -0.0025418000000000107,
           -0.0020843999999999863,
           -0.0017971999999999988,
           -0.0016845999999999806,
           -0.001744699999999988,
           -0.0019708000000000225,
           -0.002352099999999996,
           -0.002876600000000007,
           -0.0035289000000000015,
           -0.004290999999999989,
           -0.005142700000000014,
           -0.006058399999999992,
           0.0290104,
           5.999999999999062e-7,
           6.000000000016409e-7,
           3.999999999993592e-7,
           8.000000000004531e-7,
           6.999999999993123e-7,
           2.999999999999531e-7,
           6.999999999993123e-7,
           5.000000000005e-7,
           2.999999999999531e-7,
           7.000000000001796e-7,
           2.999999999999531e-7,
           3.999999999993592e-7,
           4.0000000000022656e-7,
           2.999999999990857e-7,
           5.000000000005e-7,
           1.0000000000027348e-7,
           2.0000000000054696e-7,
           2.0000000000011328e-7,
           4.336808689942018e-19,
           3.999999999997929e-7,
           1.0000000000005664e-7,
           -9.999999999994822e-8,
           3.000000000000073e-7,
           0
          ],
          [
           0,
           -0.004718600000000003,
           -0.003859100000000032,
           -0.003089699999999973,
           -0.002443799999999996,
           -0.0019444000000000128,
           -0.0016049000000000202,
           -0.001427999999999957,
           -0.0014129999999999976,
           -0.001552600000000015,
           -0.001840300000000017,
           -0.002266900000000016,
           -0.0028223,
           -0.0034958999999999962,
           -0.004270999999999997,
           -0.0051310000000000106,
           -0.006051600000000004,
           0.0290073,
           4.000000000010939e-7,
           6.999999999993123e-7,
           5.000000000005e-7,
           5.000000000005e-7,
           8.000000000004531e-7,
           6.000000000016409e-7,
           5.999999999999062e-7,
           6.000000000016409e-7,
           4.0000000000022656e-7,
           5.999999999999062e-7,
           4.999999999996327e-7,
           2.999999999999531e-7,
           2.999999999999531e-7,
           4.0000000000022656e-7,
           2.0000000000054696e-7,
           1.999999999996796e-7,
           4.0000000000022656e-7,
           2.0000000000011328e-7,
           4.336808689942018e-19,
           1.0000000000005664e-7,
           1.9999999999989644e-7,
           -2.0000000000000486e-7,
           0
          ],
          [
           0,
           -0.004705999999999988,
           -0.0038327999999999973,
           -0.003044999999999992,
           -0.0023756000000000055,
           -0.0018447999999999798,
           -0.0014637000000000122,
           -0.0012355999999999756,
           -0.0011561999999999961,
           -0.0012209999999999999,
           -0.0014224999999999932,
           -0.0017550000000000066,
           -0.002212799999999987,
           -0.0027892000000000194,
           -0.003475600000000023,
           -0.004259100000000016,
           -0.005123299999999997,
           -0.006047100000000014,
           0.029006800000000003,
           7.000000000027817e-7,
           9.00000000001594e-7,
           5.000000000005e-7,
           5.000000000005e-7,
           4.999999999987653e-7,
           5.999999999999062e-7,
           6.000000000016409e-7,
           4.0000000000022656e-7,
           4.0000000000022656e-7,
           5.999999999999062e-7,
           4.0000000000022656e-7,
           3.999999999993592e-7,
           1.999999999996796e-7,
           5.000000000005e-7,
           2.999999999999531e-7,
           0,
           9.999999999940612e-8,
           3.999999999997929e-7,
           -1.0000000000027348e-7,
           1.9999999999989644e-7,
           9.999999999994822e-8,
           0
          ],
          [
           0,
           -0.004698099999999997,
           -0.0038151000000000157,
           -0.003015800000000013,
           -0.002328899999999995,
           -0.0017752000000000046,
           -0.0013637000000000232,
           -0.0010947000000000318,
           -0.0009637999999999869,
           -0.0009646000000000099,
           -0.0010906999999999722,
           -0.001337600000000022,
           -0.0017018000000000033,
           -0.0021800999999999904,
           -0.0027699000000000196,
           -0.0034639000000000197,
           -0.004252199999999984,
           -0.0051189999999999986,
           -0.006043999999999994,
           0.029010599999999998,
           5.000000000005e-7,
           0.000001000000000001,
           5.999999999999062e-7,
           8.999999999998592e-7,
           5.000000000005e-7,
           4.999999999987653e-7,
           6.999999999993123e-7,
           4.999999999996327e-7,
           1.999999999996796e-7,
           5.999999999999062e-7,
           2.0000000000054696e-7,
           1.999999999996796e-7,
           2.999999999999531e-7,
           2.0000000000054696e-7,
           3.999999999997929e-7,
           4.336808689942018e-19,
           9.99999999998398e-8,
           2.0000000000011328e-7,
           -1.0000000000005664e-7,
           0,
           0
          ],
          [
           0,
           -0.0046932999999999975,
           -0.0038043000000000105,
           -0.0029962999999999795,
           -0.002298599999999984,
           -0.001728499999999994,
           -0.0012940999999999925,
           -0.0009939999999999949,
           -0.0008228999999999875,
           -0.0007720999999999978,
           -0.0008352000000000359,
           -0.0010063999999999906,
           -0.001284599999999969,
           -0.0016694000000000153,
           -0.002161299999999977,
           -0.0027588000000000057,
           -0.0034575000000000022,
           -0.004248400000000013,
           -0.005116800000000005,
           -0.006042500000000006,
           0.029020700000000003,
           6.999999999993123e-7,
           7.00000000001047e-7,
           5.000000000005e-7,
           8.000000000004531e-7,
           5.999999999999062e-7,
           5.000000000005e-7,
           3.999999999993592e-7,
           7.999999999995858e-7,
           2.0000000000054696e-7,
           5.999999999999062e-7,
           4.0000000000022656e-7,
           2.999999999999531e-7,
           2.999999999990857e-7,
           9.99999999998398e-8,
           2.999999999995194e-7,
           1.0000000000027348e-7,
           0,
           2.999999999999531e-7,
           -2.0000000000000486e-7,
           0
          ],
          [
           0,
           -0.0046902999999999945,
           -0.0037974999999999814,
           -0.002984500000000001,
           -0.0022789000000000004,
           -0.0016976000000000213,
           -0.001247199999999976,
           -0.0009247000000000005,
           -0.0007227000000000205,
           -0.000631699999999985,
           -0.0006427999999999989,
           -0.0007508000000000237,
           -0.0009539000000000075,
           -0.0012527999999999706,
           -0.0016511999999999916,
           -0.0021506000000000025,
           -0.0027531000000000083,
           -0.003454600000000002,
           -0.004246699999999992,
           -0.005116300000000004,
           -0.006042600000000009,
           0.029036199999999998,
           8.999999999998592e-7,
           8.999999999998592e-7,
           5.000000000005e-7,
           7.00000000001047e-7,
           6.999999999993123e-7,
           6.999999999993123e-7,
           1.999999999996796e-7,
           5.999999999999062e-7,
           1.999999999996796e-7,
           4.0000000000022656e-7,
           4.0000000000022656e-7,
           2.0000000000054696e-7,
           2.0000000000011328e-7,
           2.0000000000011328e-7,
           2.0000000000011328e-7,
           -1.0000000000027348e-7,
           1.0000000000005664e-7,
           2.0000000000000486e-7,
           0
          ],
          [
           0,
           -0.0046882999999999925,
           -0.003793500000000005,
           -0.0029772999999999883,
           -0.0022666999999999826,
           -0.0016777000000000042,
           -0.0012163000000000035,
           -0.000877700000000009,
           -0.0006532999999999956,
           -0.000531400000000043,
           -0.000502400000000014,
           -0.0005591000000000068,
           -0.0006984999999999908,
           -0.0009228000000000014,
           -0.0012346000000000024,
           -0.0016412000000000093,
           -0.0021455999999999975,
           -0.002750400000000014,
           -0.003453899999999982,
           -0.004246799999999995,
           -0.0051169000000000076,
           -0.006043400000000004,
           0.029058100000000007,
           7.999999999987184e-7,
           8.999999999998592e-7,
           5.999999999999062e-7,
           7.00000000001047e-7,
           4.000000000010939e-7,
           6.999999999993123e-7,
           3.0000000000082044e-7,
           4.999999999996327e-7,
           1.999999999996796e-7,
           2.0000000000054696e-7,
           2.999999999999531e-7,
           2.999999999999531e-7,
           9.99999999998398e-8,
           2.0000000000011328e-7,
           2.0000000000011328e-7,
           -1.0000000000005664e-7,
           1.0000000000005664e-7,
           0
          ],
          [
           0,
           -0.004687300000000005,
           -0.003790999999999989,
           -0.002972899999999973,
           -0.002259199999999989,
           -0.00166570000000002,
           -0.0011964000000000141,
           -0.0008471000000000173,
           -0.0006062999999999763,
           -0.0004622999999999988,
           -0.0004021999999999637,
           -0.0004185000000000161,
           -0.0005069999999999797,
           -0.0006674000000000124,
           -0.0009047999999999834,
           -0.0012252000000000096,
           -0.0016362000000000043,
           -0.0021436000000000233,
           -0.002750300000000011,
           -0.0034542000000000184,
           -0.004248499999999988,
           -0.005118600000000001,
           -0.006045899999999993,
           0.029086099999999997,
           4.999999999987653e-7,
           8.999999999998592e-7,
           6.999999999993123e-7,
           5.000000000005e-7,
           5.999999999981714e-7,
           6.000000000007735e-7,
           1.999999999996796e-7,
           4.999999999996327e-7,
           2.999999999999531e-7,
           1.0000000000027348e-7,
           1.0000000000027348e-7,
           2.999999999999531e-7,
           -9.99999999998398e-8,
           1.999999999996796e-7,
           0,
           -1.0000000000005664e-7,
           0
          ],
          [
           0,
           -0.004686799999999991,
           -0.0037900999999999907,
           -0.002970200000000006,
           -0.0022546000000000233,
           -0.0016583000000000014,
           -0.0011842999999999992,
           -0.0008272000000000002,
           -0.0005758000000000152,
           -0.0004154999999999853,
           -0.00033329999999998083,
           -0.0003186000000000577,
           -0.00036679999999994495,
           -0.0004759000000000291,
           -0.0006496999999999753,
           -0.0008950000000000069,
           -0.0012205000000000132,
           -0.0016343999999999803,
           -0.0021433999999999898,
           -0.0027512999999999566,
           -0.0034561000000000175,
           -0.004251199999999983,
           -0.005121700000000021,
           -0.006049199999999991,
           0.02912,
           5.999999999999062e-7,
           5.000000000005e-7,
           6.999999999993123e-7,
           4.000000000010939e-7,
           3.999999999993592e-7,
           4.000000000010939e-7,
           2.999999999999531e-7,
           2.999999999999531e-7,
           1.999999999996796e-7,
           1.999999999996796e-7,
           1.0000000000027348e-7,
           0,
           2.0000000000011328e-7,
           1.0000000000005664e-7,
           -1.0000000000005664e-7,
           0
          ],
          [
           0,
           -0.004686600000000013,
           -0.0037890999999999897,
           -0.0029689999999999994,
           -0.0022524999999999906,
           -0.0016540000000000166,
           -0.0011769000000000085,
           -0.000815299999999991,
           -0.0005562000000000067,
           -0.00038469999999998783,
           -0.00028679999999997596,
           -0.0002500000000000835,
           -0.00026719999999996746,
           -0.00033569999999999434,
           -0.0004587000000000063,
           -0.0006407999999999969,
           -0.0008909,
           -0.0012191000000000007,
           -0.001634500000000011,
           -0.0021449999999999803,
           -0.002753599999999995,
           -0.0034590999999999927,
           -0.004254599999999997,
           -0.0051260000000000056,
           -0.006053799999999998,
           0.029158899999999998,
           8.999999999998592e-7,
           5.000000000005e-7,
           7.00000000001047e-7,
           2.999999999999531e-7,
           4.0000000000022656e-7,
           2.999999999999531e-7,
           2.999999999999531e-7,
           1.0000000000027348e-7,
           -1.0000000000027348e-7,
           2.999999999999531e-7,
           -9.99999999998398e-8,
           -2.0000000000011328e-7,
           9.99999999998398e-8,
           1.0000000000005664e-7,
           0
          ],
          [
           0,
           -0.004686400000000007,
           -0.0037892999999999954,
           -0.002968699999999991,
           -0.0022514999999999896,
           -0.0016520000000000146,
           -0.0011735999999999969,
           -0.0008084000000000147,
           -0.0005449000000000148,
           -0.0003663999999999612,
           -0.00025680000000000147,
           -0.0002038999999999791,
           -0.00019890000000000185,
           -0.00023719999999999297,
           -0.0003191000000000166,
           -0.0004496999999999973,
           -0.0006369999999999987,
           -0.0008900000000000019,
           -0.0012199999999999989,
           -0.001636699999999991,
           -0.0021479999999999833,
           -0.002757300000000018,
           -0.0034636999999999585,
           -0.004259999999999986,
           -0.005131799999999992,
           -0.006059600000000012,
           0.0292028,
           5.999999999981714e-7,
           5.999999999999062e-7,
           4.999999999987653e-7,
           1.999999999996796e-7,
           3.999999999993592e-7,
           0,
           8.673617379884035e-19,
           1.999999999996796e-7,
           -1.0000000000027348e-7,
           -4.336808689942018e-19,
           -9.99999999998398e-8,
           1.9999999999989644e-7,
           -3.000000000000615e-7,
           0
          ],
          [
           0,
           -0.004686999999999997,
           -0.0037900000000000156,
           -0.0029697000000000195,
           -0.0022523000000000126,
           -0.001652600000000004,
           -0.0011726000000000236,
           -0.0008066999999999935,
           -0.0005394999999999983,
           -0.00035620000000000096,
           -0.00023980000000001223,
           -0.00017580000000000373,
           -0.00015449999999994635,
           -0.0001703000000000121,
           -0.00022220000000000573,
           -0.00031209999999998184,
           -0.0004479000000000011,
           -0.0006373999999999824,
           -0.0008924000000000154,
           -0.0012233000000000105,
           -0.0016410000000000313,
           -0.002153199999999994,
           -0.002763500000000002,
           -0.0034703999999999846,
           -0.0042674000000000045,
           -0.005139600000000008,
           -0.006067799999999998,
           0.029249499999999998,
           4.999999999987653e-7,
           5.000000000005e-7,
           3.999999999993592e-7,
           2.0000000000054696e-7,
           1.0000000000114084e-7,
           -8.673617379884035e-19,
           -9.999999999940612e-8,
           -2.999999999999531e-7,
           -4.336808689942018e-19,
           -9.99999999998398e-8,
           -4.000000000000097e-7,
           1.9999999999989644e-7,
           0
          ],
          [
           0,
           -0.004687899999999995,
           -0.003791699999999981,
           -0.0029727000000000225,
           -0.002256099999999983,
           -0.0016563999999999746,
           -0.0011769000000000085,
           -0.0008095999999999659,
           -0.0005413999999999974,
           -0.0003550999999999971,
           -0.00023370000000000335,
           -0.0001623000000000041,
           -0.00013050000000003337,
           -0.00012990000000001611,
           -0.00015900000000002024,
           -0.00021889999999996634,
           -0.00031359999999996946,
           -0.00045219999999998595,
           -0.0006436000000000219,
           -0.0008993999999999669,
           -0.0012315999999999994,
           -0.0016499999999999848,
           -0.0021626999999999896,
           -0.002773999999999971,
           -0.0034817000000000042,
           -0.0042795999999999945,
           -0.005151900000000001,
           -0.006080000000000002,
           0.029294499999999994,
           3.999999999993592e-7,
           2.0000000000054696e-7,
           -9.999999999940612e-8,
           -8.673617379884035e-19,
           -1.0000000000027348e-7,
           -1.0000000000027348e-7,
           -2.0000000000054696e-7,
           -2.0000000000011328e-7,
           -2.0000000000011328e-7,
           2.168404344971009e-19,
           -2.0000000000000486e-7,
           0
          ],
          [
           0,
           -0.004690700000000006,
           -0.0037972999999999757,
           -0.0029801000000000133,
           -0.002265199999999995,
           -0.001667099999999977,
           -0.0011883000000000032,
           -0.000821299999999997,
           -0.0005526999999999893,
           -0.0003650000000000042,
           -0.00024079999999998547,
           -0.000165200000000032,
           -0.0001256000000000035,
           -0.00011440000000001449,
           -0.0001275000000000026,
           -0.00016460000000001473,
           -0.0002290999999999821,
           -0.0003271000000000246,
           -0.0004667000000000143,
           -0.0006595000000000073,
           -0.0009160000000000001,
           -0.0012488999999999972,
           -0.0016681000000000334,
           -0.0021818000000000115,
           -0.002793799999999985,
           -0.003502100000000008,
           -0.004299999999999998,
           -0.005172099999999999,
           -0.006098500000000007,
           0.029328,
           -1.734723475976807e-18,
           2.999999999999531e-7,
           -4.0000000000022656e-7,
           -2.999999999999531e-7,
           -5.999999999990388e-7,
           -2.999999999999531e-7,
           -5.999999999999062e-7,
           -6.000000000003398e-7,
           -3.000000000001699e-7,
           0,
           0
          ],
          [
           0,
           -0.0046963999999999895,
           -0.003808800000000001,
           -0.002996699999999991,
           -0.002286399999999994,
           -0.0016915999999999876,
           -0.0012153999999999776,
           -0.0008501999999999954,
           -0.0005824999999999858,
           -0.0003946999999999701,
           -0.0002690000000000192,
           -0.00019100000000005224,
           -0.00014659999999994122,
           -0.00012830000000002562,
           -0.00013019999999996923,
           -0.0001515000000000266,
           -0.00019339999999995472,
           -0.0002601999999999882,
           -0.00035999999999997145,
           -0.0005008999999999986,
           -0.0006939999999999724,
           -0.000951499999999994,
           -0.0012846999999999997,
           -0.0017050999999999872,
           -0.0022191000000000294,
           -0.002832000000000001,
           -0.0035407000000000077,
           -0.004337800000000003,
           -0.005208499999999991,
           -0.006130300000000005,
           0.029328200000000002,
           -4.0000000000022656e-7,
           -3.0000000000082044e-7,
           -7.999999999995858e-7,
           -4.999999999996327e-7,
           -9.000000000007266e-7,
           -8.000000000000194e-7,
           -4.0000000000022656e-7,
           -7.000000000001796e-7,
           -2.0000000000000486e-7,
           0
          ],
          [
           0,
           -0.0047094000000000025,
           -0.003833100000000006,
           -0.003031900000000004,
           -0.0023305999999999882,
           -0.001743400000000006,
           -0.0012726999999999877,
           -0.0009114000000000344,
           -0.0006463999999999914,
           -0.0004597000000000073,
           -0.0003349999999999742,
           -0.0002551000000000081,
           -0.00020860000000000323,
           -0.00018580000000001373,
           -0.00018019999999996372,
           -0.0001906999999999881,
           -0.00021640000000000548,
           -0.0002610000000000112,
           -0.00032959999999998546,
           -0.0004300999999999888,
           -0.0005715000000000026,
           -0.0007655000000000023,
           -0.0010233999999999799,
           -0.0013574000000000086,
           -0.0017784000000000133,
           -0.00229310000000002,
           -0.0029055000000000053,
           -0.003614000000000034,
           -0.004408099999999998,
           -0.005273599999999989,
           -0.006185999999999997,
           0.0292534,
           -7.00000000001047e-7,
           -0.0000010000000000001327,
           -0.0000010999999999995388,
           -0.0000015000000000006328,
           -9.99999999999699e-7,
           -0.0000010999999999999725,
           -5.999999999999062e-7,
           -4.000000000000097e-7,
           0
          ],
          [
           0,
           -0.004733900000000013,
           -0.00388150000000001,
           -0.0031011999999999984,
           -0.002417499999999989,
           -0.001844499999999999,
           -0.0013849000000000222,
           -0.0010318999999999745,
           -0.0007722000000000007,
           -0.0005895999999999957,
           -0.0004664000000000057,
           -0.00038729999999997933,
           -0.0003398000000000012,
           -0.00031439999999999246,
           -0.00030450000000004085,
           -0.0003075000000000161,
           -0.00032199999999998896,
           -0.0003509999999999902,
           -0.0003966000000000247,
           -0.00046629999999997507,
           -0.0005674000000000234,
           -0.0007093999999999989,
           -0.0009038000000000102,
           -0.0011622000000000021,
           -0.0014966999999999897,
           -0.0019173999999999858,
           -0.0024321999999999955,
           -0.003043299999999999,
           -0.0037479999999999736,
           -0.004536100000000015,
           -0.0053893,
           -0.006282499999999996,
           0.0290252,
           -0.000001399999999999492,
           -0.0000017999999999997185,
           -0.000001899999999999992,
           -0.0000018000000000001522,
           -0.0000013999999999999256,
           -0.0000013000000000000858,
           -6.000000000000146e-7,
           0
          ],
          [
           0,
           -0.004780300000000001,
           -0.003971300000000011,
           -0.003229800000000005,
           -0.0025785999999999865,
           -0.0020318000000000003,
           -0.00159200000000001,
           -0.0012535999999999936,
           -0.0010037999999999991,
           -0.0008275999999999839,
           -0.0007087000000000065,
           -0.0006320000000000492,
           -0.0005850000000000022,
           -0.0005583000000000116,
           -0.0005464999999999776,
           -0.0005445000000000033,
           -0.0005523000000000056,
           -0.0005696000000000034,
           -0.0005997000000000086,
           -0.0006464999999999943,
           -0.000716300000000003,
           -0.0008179999999999854,
           -0.0009600000000000164,
           -0.0011549999999999894,
           -0.001413400000000009,
           -0.0017479999999999718,
           -0.0021677000000000224,
           -0.00267980000000001,
           -0.0032866000000000006,
           -0.0039825,
           -0.004756299999999991,
           -0.005586400000000005,
           -0.006444199999999997,
           0.028512799999999998,
           -0.000002999999999999531,
           -0.000002700000000000445,
           -0.0000027999999999998512,
           -0.0000026000000000001716,
           -0.000001599999999999822,
           -8.999999999999677e-7,
           0
          ],
          [
           0,
           -0.004862000000000005,
           -0.004128900000000019,
           -0.0034540000000000126,
           -0.0028577999999999937,
           -0.0023545999999999845,
           -0.0019479000000000024,
           -0.0016330999999999984,
           -0.0014006000000000018,
           -0.0012357999999999814,
           -0.0011237000000000053,
           -0.0010509999999999964,
           -0.0010065000000000213,
           -0.000980600000000026,
           -0.0009670999999999985,
           -0.0009629000000000165,
           -0.0009659000000000195,
           -0.0009762000000000104,
           -0.0009946000000000121,
           -0.0010256000000000154,
           -0.0010729999999999906,
           -0.0011430000000000051,
           -0.0012447999999999904,
           -0.0013869999999999993,
           -0.0015815000000000135,
           -0.001839200000000013,
           -0.0021719000000000044,
           -0.002588099999999982,
           -0.003093600000000002,
           -0.003688899999999995,
           -0.004366500000000023,
           -0.005111500000000019,
           -0.005900299999999983,
           -0.006700200000000003,
           0.027511900000000006,
           -0.00000459999999999957,
           -0.00000430000000000005,
           -0.0000033999999999997574,
           -0.0000029000000000001247,
           -0.0000012999999999999774,
           0
          ],
          [
           0,
           -0.004997500000000002,
           -0.0043896999999999825,
           -0.0038214000000000303,
           -0.0033127000000000018,
           -0.0028761999999999954,
           -0.0025198000000000165,
           -0.0022412000000000265,
           -0.0020338999999999774,
           -0.0018854999999999844,
           -0.0017851000000000117,
           -0.0017188999999999954,
           -0.001677999999999985,
           -0.0016538000000000108,
           -0.0016411000000000064,
           -0.00163569999999999,
           -0.0016356000000000148,
           -0.0016410999999999787,
           -0.0016529000000000127,
           -0.0016721999999999848,
           -0.0017032000000000158,
           -0.0017505999999999633,
           -0.0018209999999999893,
           -0.0019219000000000042,
           -0.002063699999999974,
           -0.0022564000000000195,
           -0.002511100000000016,
           -0.0028379000000000043,
           -0.003244799999999992,
           -0.003734599999999977,
           -0.004305900000000001,
           -0.004948299999999989,
           -0.0056427000000000005,
           -0.006362999999999994,
           -0.0070753,
           0.025737799999999998,
           -0.000006599999999999835,
           -0.000005699999999999976,
           -0.00000399999999999988,
           -0.000002199999999999945,
           0
          ],
          [
           0,
           -0.005214200000000002,
           -0.004799499999999984,
           -0.004390299999999986,
           -0.004005800000000004,
           -0.0036642000000000063,
           -0.0033766999999999825,
           -0.0031477999999999784,
           -0.002974400000000016,
           -0.002849699999999983,
           -0.0027634999999999743,
           -0.002707199999999993,
           -0.002671800000000002,
           -0.0026509000000000116,
           -0.0026390999999999776,
           -0.0026336000000000137,
           -0.002632699999999988,
           -0.0026349999999999985,
           -0.0026417999999999997,
           -0.002653699999999981,
           -0.0026733999999999924,
           -0.0027044999999999986,
           -0.0027516000000000207,
           -0.0028207000000000093,
           -0.002920299999999987,
           -0.0030588999999999755,
           -0.0032461000000000018,
           -0.003492399999999979,
           -0.0038055999999999923,
           -0.0041907999999999945,
           -0.004649500000000001,
           -0.0051756999999999775,
           -0.005756000000000011,
           -0.006370200000000006,
           -0.006988700000000014,
           -0.007580199999999995,
           0.022843300000000004,
           -0.00000869999999999994,
           -0.000006600000000000052,
           -0.0000034000000000000826,
           0
          ],
          [
           0,
           -0.005554099999999999,
           -0.0054206000000000115,
           -0.005226000000000008,
           -0.005000300000000013,
           -0.004774400000000012,
           -0.004570899999999989,
           -0.004402099999999992,
           -0.004270899999999994,
           -0.00417449999999997,
           -0.0041078000000000225,
           -0.004063199999999989,
           -0.004035099999999986,
           -0.004018300000000002,
           -0.004008600000000001,
           -0.004003799999999974,
           -0.004002499999999992,
           -0.004003699999999999,
           -0.004006999999999983,
           -0.0040141999999999955,
           -0.004026400000000013,
           -0.004045699999999985,
           -0.004075599999999985,
           -0.004120999999999986,
           -0.004187300000000005,
           -0.004281500000000021,
           -0.004412100000000002,
           -0.0045863999999999905,
           -0.004812700000000031,
           -0.005096600000000007,
           -0.005440200000000006,
           -0.005840800000000007,
           -0.006290899999999988,
           -0.006774200000000008,
           -0.007270499999999985,
           -0.007754000000000011,
           -0.008198000000000004,
           0.0184688,
           -0.00000989999999999997,
           -0.000005600000000000028,
           0
          ],
          [
           0,
           -0.0061108999999999955,
           -0.006352899999999995,
           -0.006401900000000002,
           -0.006341700000000006,
           -0.006233600000000006,
           -0.0061169999999999836,
           -0.006011600000000006,
           -0.00592620000000002,
           -0.005861700000000025,
           -0.0058162999999999965,
           -0.005785600000000002,
           -0.005766300000000002,
           -0.005754399999999993,
           -0.0057478999999999725,
           -0.0057445000000000135,
           -0.005742899999999995,
           -0.005743100000000029,
           -0.005745200000000006,
           -0.005749100000000007,
           -0.005755599999999972,
           -0.0057668999999999915,
           -0.005784299999999992,
           -0.005811399999999994,
           -0.00585179999999999,
           -0.005909899999999996,
           -0.005991500000000011,
           -0.0061027999999999916,
           -0.00624909999999998,
           -0.006434999999999996,
           -0.0066636000000000195,
           -0.006933600000000012,
           -0.007240400000000008,
           -0.007574199999999989,
           -0.00792190000000001,
           -0.008265199999999986,
           -0.0085871,
           -0.008871500000000004,
           0.0123382,
           -0.000009299999999999955,
           0
          ],
          [
           0,
           -0.007182899999999999,
           -0.007784599999999996,
           -0.007993199999999999,
           -0.008036599999999991,
           -0.008013300000000001,
           -0.007967000000000002,
           -0.00791929999999999,
           -0.007878099999999999,
           -0.007846299999999987,
           -0.007823300000000019,
           -0.007808099999999998,
           -0.007798100000000002,
           -0.007792300000000002,
           -0.007788400000000015,
           -0.0077867999999999965,
           -0.007786000000000015,
           -0.007786000000000001,
           -0.007786899999999999,
           -0.007788500000000004,
           -0.007791599999999996,
           -0.007796600000000001,
           -0.007804800000000001,
           -0.0078173,
           -0.007835900000000007,
           -0.007863800000000004,
           -0.007903299999999988,
           -0.007956800000000014,
           -0.0080287,
           -0.008120600000000006,
           -0.008234599999999995,
           -0.008370299999999997,
           -0.008525699999999997,
           -0.008696400000000007,
           -0.008875199999999993,
           -0.009054400000000004,
           -0.009224099999999999,
           -0.009377400000000001,
           -0.00951,
           0.0043839,
           0
          ],
          [
           0,
           0,
           0,
           0,
           0,
           0,
           0,
           0,
           0,
           0,
           0,
           0,
           0,
           0,
           0,
           0,
           0,
           0,
           0,
           0,
           0,
           0,
           0,
           0,
           0,
           0,
           0,
           0,
           0,
           0,
           0,
           0,
           0,
           0,
           0,
           0,
           0,
           0,
           0,
           0,
           0
          ]
         ]
        }
       ],
       "layout": {
        "scene": {
         "xaxis": {
          "title": {
           "text": "X"
          }
         },
         "yaxis": {
          "title": {
           "text": "Y"
          }
         },
         "zaxis": {
          "title": {
           "text": "Z"
          }
         }
        },
        "template": {
         "data": {
          "bar": [
           {
            "error_x": {
             "color": "#2a3f5f"
            },
            "error_y": {
             "color": "#2a3f5f"
            },
            "marker": {
             "line": {
              "color": "#E5ECF6",
              "width": 0.5
             },
             "pattern": {
              "fillmode": "overlay",
              "size": 10,
              "solidity": 0.2
             }
            },
            "type": "bar"
           }
          ],
          "barpolar": [
           {
            "marker": {
             "line": {
              "color": "#E5ECF6",
              "width": 0.5
             },
             "pattern": {
              "fillmode": "overlay",
              "size": 10,
              "solidity": 0.2
             }
            },
            "type": "barpolar"
           }
          ],
          "carpet": [
           {
            "aaxis": {
             "endlinecolor": "#2a3f5f",
             "gridcolor": "white",
             "linecolor": "white",
             "minorgridcolor": "white",
             "startlinecolor": "#2a3f5f"
            },
            "baxis": {
             "endlinecolor": "#2a3f5f",
             "gridcolor": "white",
             "linecolor": "white",
             "minorgridcolor": "white",
             "startlinecolor": "#2a3f5f"
            },
            "type": "carpet"
           }
          ],
          "choropleth": [
           {
            "colorbar": {
             "outlinewidth": 0,
             "ticks": ""
            },
            "type": "choropleth"
           }
          ],
          "contour": [
           {
            "colorbar": {
             "outlinewidth": 0,
             "ticks": ""
            },
            "colorscale": [
             [
              0,
              "#0d0887"
             ],
             [
              0.1111111111111111,
              "#46039f"
             ],
             [
              0.2222222222222222,
              "#7201a8"
             ],
             [
              0.3333333333333333,
              "#9c179e"
             ],
             [
              0.4444444444444444,
              "#bd3786"
             ],
             [
              0.5555555555555556,
              "#d8576b"
             ],
             [
              0.6666666666666666,
              "#ed7953"
             ],
             [
              0.7777777777777778,
              "#fb9f3a"
             ],
             [
              0.8888888888888888,
              "#fdca26"
             ],
             [
              1,
              "#f0f921"
             ]
            ],
            "type": "contour"
           }
          ],
          "contourcarpet": [
           {
            "colorbar": {
             "outlinewidth": 0,
             "ticks": ""
            },
            "type": "contourcarpet"
           }
          ],
          "heatmap": [
           {
            "colorbar": {
             "outlinewidth": 0,
             "ticks": ""
            },
            "colorscale": [
             [
              0,
              "#0d0887"
             ],
             [
              0.1111111111111111,
              "#46039f"
             ],
             [
              0.2222222222222222,
              "#7201a8"
             ],
             [
              0.3333333333333333,
              "#9c179e"
             ],
             [
              0.4444444444444444,
              "#bd3786"
             ],
             [
              0.5555555555555556,
              "#d8576b"
             ],
             [
              0.6666666666666666,
              "#ed7953"
             ],
             [
              0.7777777777777778,
              "#fb9f3a"
             ],
             [
              0.8888888888888888,
              "#fdca26"
             ],
             [
              1,
              "#f0f921"
             ]
            ],
            "type": "heatmap"
           }
          ],
          "heatmapgl": [
           {
            "colorbar": {
             "outlinewidth": 0,
             "ticks": ""
            },
            "colorscale": [
             [
              0,
              "#0d0887"
             ],
             [
              0.1111111111111111,
              "#46039f"
             ],
             [
              0.2222222222222222,
              "#7201a8"
             ],
             [
              0.3333333333333333,
              "#9c179e"
             ],
             [
              0.4444444444444444,
              "#bd3786"
             ],
             [
              0.5555555555555556,
              "#d8576b"
             ],
             [
              0.6666666666666666,
              "#ed7953"
             ],
             [
              0.7777777777777778,
              "#fb9f3a"
             ],
             [
              0.8888888888888888,
              "#fdca26"
             ],
             [
              1,
              "#f0f921"
             ]
            ],
            "type": "heatmapgl"
           }
          ],
          "histogram": [
           {
            "marker": {
             "pattern": {
              "fillmode": "overlay",
              "size": 10,
              "solidity": 0.2
             }
            },
            "type": "histogram"
           }
          ],
          "histogram2d": [
           {
            "colorbar": {
             "outlinewidth": 0,
             "ticks": ""
            },
            "colorscale": [
             [
              0,
              "#0d0887"
             ],
             [
              0.1111111111111111,
              "#46039f"
             ],
             [
              0.2222222222222222,
              "#7201a8"
             ],
             [
              0.3333333333333333,
              "#9c179e"
             ],
             [
              0.4444444444444444,
              "#bd3786"
             ],
             [
              0.5555555555555556,
              "#d8576b"
             ],
             [
              0.6666666666666666,
              "#ed7953"
             ],
             [
              0.7777777777777778,
              "#fb9f3a"
             ],
             [
              0.8888888888888888,
              "#fdca26"
             ],
             [
              1,
              "#f0f921"
             ]
            ],
            "type": "histogram2d"
           }
          ],
          "histogram2dcontour": [
           {
            "colorbar": {
             "outlinewidth": 0,
             "ticks": ""
            },
            "colorscale": [
             [
              0,
              "#0d0887"
             ],
             [
              0.1111111111111111,
              "#46039f"
             ],
             [
              0.2222222222222222,
              "#7201a8"
             ],
             [
              0.3333333333333333,
              "#9c179e"
             ],
             [
              0.4444444444444444,
              "#bd3786"
             ],
             [
              0.5555555555555556,
              "#d8576b"
             ],
             [
              0.6666666666666666,
              "#ed7953"
             ],
             [
              0.7777777777777778,
              "#fb9f3a"
             ],
             [
              0.8888888888888888,
              "#fdca26"
             ],
             [
              1,
              "#f0f921"
             ]
            ],
            "type": "histogram2dcontour"
           }
          ],
          "mesh3d": [
           {
            "colorbar": {
             "outlinewidth": 0,
             "ticks": ""
            },
            "type": "mesh3d"
           }
          ],
          "parcoords": [
           {
            "line": {
             "colorbar": {
              "outlinewidth": 0,
              "ticks": ""
             }
            },
            "type": "parcoords"
           }
          ],
          "pie": [
           {
            "automargin": true,
            "type": "pie"
           }
          ],
          "scatter": [
           {
            "fillpattern": {
             "fillmode": "overlay",
             "size": 10,
             "solidity": 0.2
            },
            "type": "scatter"
           }
          ],
          "scatter3d": [
           {
            "line": {
             "colorbar": {
              "outlinewidth": 0,
              "ticks": ""
             }
            },
            "marker": {
             "colorbar": {
              "outlinewidth": 0,
              "ticks": ""
             }
            },
            "type": "scatter3d"
           }
          ],
          "scattercarpet": [
           {
            "marker": {
             "colorbar": {
              "outlinewidth": 0,
              "ticks": ""
             }
            },
            "type": "scattercarpet"
           }
          ],
          "scattergeo": [
           {
            "marker": {
             "colorbar": {
              "outlinewidth": 0,
              "ticks": ""
             }
            },
            "type": "scattergeo"
           }
          ],
          "scattergl": [
           {
            "marker": {
             "colorbar": {
              "outlinewidth": 0,
              "ticks": ""
             }
            },
            "type": "scattergl"
           }
          ],
          "scattermapbox": [
           {
            "marker": {
             "colorbar": {
              "outlinewidth": 0,
              "ticks": ""
             }
            },
            "type": "scattermapbox"
           }
          ],
          "scatterpolar": [
           {
            "marker": {
             "colorbar": {
              "outlinewidth": 0,
              "ticks": ""
             }
            },
            "type": "scatterpolar"
           }
          ],
          "scatterpolargl": [
           {
            "marker": {
             "colorbar": {
              "outlinewidth": 0,
              "ticks": ""
             }
            },
            "type": "scatterpolargl"
           }
          ],
          "scatterternary": [
           {
            "marker": {
             "colorbar": {
              "outlinewidth": 0,
              "ticks": ""
             }
            },
            "type": "scatterternary"
           }
          ],
          "surface": [
           {
            "colorbar": {
             "outlinewidth": 0,
             "ticks": ""
            },
            "colorscale": [
             [
              0,
              "#0d0887"
             ],
             [
              0.1111111111111111,
              "#46039f"
             ],
             [
              0.2222222222222222,
              "#7201a8"
             ],
             [
              0.3333333333333333,
              "#9c179e"
             ],
             [
              0.4444444444444444,
              "#bd3786"
             ],
             [
              0.5555555555555556,
              "#d8576b"
             ],
             [
              0.6666666666666666,
              "#ed7953"
             ],
             [
              0.7777777777777778,
              "#fb9f3a"
             ],
             [
              0.8888888888888888,
              "#fdca26"
             ],
             [
              1,
              "#f0f921"
             ]
            ],
            "type": "surface"
           }
          ],
          "table": [
           {
            "cells": {
             "fill": {
              "color": "#EBF0F8"
             },
             "line": {
              "color": "white"
             }
            },
            "header": {
             "fill": {
              "color": "#C8D4E3"
             },
             "line": {
              "color": "white"
             }
            },
            "type": "table"
           }
          ]
         },
         "layout": {
          "annotationdefaults": {
           "arrowcolor": "#2a3f5f",
           "arrowhead": 0,
           "arrowwidth": 1
          },
          "autotypenumbers": "strict",
          "coloraxis": {
           "colorbar": {
            "outlinewidth": 0,
            "ticks": ""
           }
          },
          "colorscale": {
           "diverging": [
            [
             0,
             "#8e0152"
            ],
            [
             0.1,
             "#c51b7d"
            ],
            [
             0.2,
             "#de77ae"
            ],
            [
             0.3,
             "#f1b6da"
            ],
            [
             0.4,
             "#fde0ef"
            ],
            [
             0.5,
             "#f7f7f7"
            ],
            [
             0.6,
             "#e6f5d0"
            ],
            [
             0.7,
             "#b8e186"
            ],
            [
             0.8,
             "#7fbc41"
            ],
            [
             0.9,
             "#4d9221"
            ],
            [
             1,
             "#276419"
            ]
           ],
           "sequential": [
            [
             0,
             "#0d0887"
            ],
            [
             0.1111111111111111,
             "#46039f"
            ],
            [
             0.2222222222222222,
             "#7201a8"
            ],
            [
             0.3333333333333333,
             "#9c179e"
            ],
            [
             0.4444444444444444,
             "#bd3786"
            ],
            [
             0.5555555555555556,
             "#d8576b"
            ],
            [
             0.6666666666666666,
             "#ed7953"
            ],
            [
             0.7777777777777778,
             "#fb9f3a"
            ],
            [
             0.8888888888888888,
             "#fdca26"
            ],
            [
             1,
             "#f0f921"
            ]
           ],
           "sequentialminus": [
            [
             0,
             "#0d0887"
            ],
            [
             0.1111111111111111,
             "#46039f"
            ],
            [
             0.2222222222222222,
             "#7201a8"
            ],
            [
             0.3333333333333333,
             "#9c179e"
            ],
            [
             0.4444444444444444,
             "#bd3786"
            ],
            [
             0.5555555555555556,
             "#d8576b"
            ],
            [
             0.6666666666666666,
             "#ed7953"
            ],
            [
             0.7777777777777778,
             "#fb9f3a"
            ],
            [
             0.8888888888888888,
             "#fdca26"
            ],
            [
             1,
             "#f0f921"
            ]
           ]
          },
          "colorway": [
           "#636efa",
           "#EF553B",
           "#00cc96",
           "#ab63fa",
           "#FFA15A",
           "#19d3f3",
           "#FF6692",
           "#B6E880",
           "#FF97FF",
           "#FECB52"
          ],
          "font": {
           "color": "#2a3f5f"
          },
          "geo": {
           "bgcolor": "white",
           "lakecolor": "white",
           "landcolor": "#E5ECF6",
           "showlakes": true,
           "showland": true,
           "subunitcolor": "white"
          },
          "hoverlabel": {
           "align": "left"
          },
          "hovermode": "closest",
          "mapbox": {
           "style": "light"
          },
          "paper_bgcolor": "white",
          "plot_bgcolor": "#E5ECF6",
          "polar": {
           "angularaxis": {
            "gridcolor": "white",
            "linecolor": "white",
            "ticks": ""
           },
           "bgcolor": "#E5ECF6",
           "radialaxis": {
            "gridcolor": "white",
            "linecolor": "white",
            "ticks": ""
           }
          },
          "scene": {
           "xaxis": {
            "backgroundcolor": "#E5ECF6",
            "gridcolor": "white",
            "gridwidth": 2,
            "linecolor": "white",
            "showbackground": true,
            "ticks": "",
            "zerolinecolor": "white"
           },
           "yaxis": {
            "backgroundcolor": "#E5ECF6",
            "gridcolor": "white",
            "gridwidth": 2,
            "linecolor": "white",
            "showbackground": true,
            "ticks": "",
            "zerolinecolor": "white"
           },
           "zaxis": {
            "backgroundcolor": "#E5ECF6",
            "gridcolor": "white",
            "gridwidth": 2,
            "linecolor": "white",
            "showbackground": true,
            "ticks": "",
            "zerolinecolor": "white"
           }
          },
          "shapedefaults": {
           "line": {
            "color": "#2a3f5f"
           }
          },
          "ternary": {
           "aaxis": {
            "gridcolor": "white",
            "linecolor": "white",
            "ticks": ""
           },
           "baxis": {
            "gridcolor": "white",
            "linecolor": "white",
            "ticks": ""
           },
           "bgcolor": "#E5ECF6",
           "caxis": {
            "gridcolor": "white",
            "linecolor": "white",
            "ticks": ""
           }
          },
          "title": {
           "x": 0.05
          },
          "xaxis": {
           "automargin": true,
           "gridcolor": "white",
           "linecolor": "white",
           "ticks": "",
           "title": {
            "standoff": 15
           },
           "zerolinecolor": "white",
           "zerolinewidth": 2
          },
          "yaxis": {
           "automargin": true,
           "gridcolor": "white",
           "linecolor": "white",
           "ticks": "",
           "title": {
            "standoff": 15
           },
           "zerolinecolor": "white",
           "zerolinewidth": 2
          }
         }
        },
        "title": {
         "text": "Визуализация лапласиана, (M, N) = (40, 40)"
        }
       }
      }
     },
     "metadata": {},
     "output_type": "display_data"
    }
   ],
   "source": [
    "# Создание сетки для осей X и Y\n",
    "x = np.linspace(A1, A2, cols)\n",
    "y = np.linspace(B1, B2, rows)\n",
    "\n",
    "X, Y = np.meshgrid(x, y)\n",
    "\n",
    "laplasian = calculate_laplacian(data, 1.)\n",
    "\n",
    "# Создание 3D-поверхности\n",
    "fig = go.Figure(data=[go.Surface(z=laplasian, x=x, y=y, colorscale='Viridis')])\n",
    "\n",
    "# Настройка меток осей\n",
    "fig.update_layout(scene=dict(xaxis_title='X', yaxis_title='Y', zaxis_title='Z'),\n",
    "                  title='Визуализация лапласиана, (M, N) = (40, 40)')\n",
    "\n",
    "# Отображение графика\n",
    "fig.show()"
   ]
  },
  {
   "cell_type": "code",
   "execution_count": null,
   "metadata": {},
   "outputs": [],
   "source": []
  }
 ],
 "metadata": {
  "kernelspec": {
   "display_name": "Python 3",
   "language": "python",
   "name": "python3"
  },
  "language_info": {
   "codemirror_mode": {
    "name": "ipython",
    "version": 3
   },
   "file_extension": ".py",
   "mimetype": "text/x-python",
   "name": "python",
   "nbconvert_exporter": "python",
   "pygments_lexer": "ipython3",
   "version": "3.11.4"
  }
 },
 "nbformat": 4,
 "nbformat_minor": 2
}
